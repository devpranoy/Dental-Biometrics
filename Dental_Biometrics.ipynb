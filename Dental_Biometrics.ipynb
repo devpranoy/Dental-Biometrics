{
  "nbformat": 4,
  "nbformat_minor": 0,
  "metadata": {
    "colab": {
      "name": "Dental Biometrics.ipynb",
      "version": "0.3.2",
      "provenance": [],
      "include_colab_link": true
    },
    "kernelspec": {
      "name": "python3",
      "display_name": "Python 3"
    },
    "accelerator": "GPU"
  },
  "cells": [
    {
      "cell_type": "markdown",
      "metadata": {
        "id": "view-in-github",
        "colab_type": "text"
      },
      "source": [
        "<a href=\"https://colab.research.google.com/github/devpranoy/Dental-Biometrics/blob/master/Dental_Biometrics.ipynb\" target=\"_parent\"><img src=\"https://colab.research.google.com/assets/colab-badge.svg\" alt=\"Open In Colab\"/></a>"
      ]
    },
    {
      "metadata": {
        "id": "aO7ZuNTZB4Nq",
        "colab_type": "text"
      },
      "cell_type": "markdown",
      "source": [
        "#Dental Biometrics"
      ]
    },
    {
      "metadata": {
        "id": "sAH9wFBXB9LR",
        "colab_type": "code",
        "outputId": "a256eac2-5059-47d8-c245-69888158c616",
        "colab": {
          "base_uri": "https://localhost:8080/",
          "height": 34
        }
      },
      "cell_type": "code",
      "source": [
        "#connecting google drive\n",
        "from google.colab import drive\n",
        "drive.mount('/content/drive',force_remount=True)"
      ],
      "execution_count": 85,
      "outputs": [
        {
          "output_type": "stream",
          "text": [
            "Mounted at /content/drive\n"
          ],
          "name": "stdout"
        }
      ]
    },
    {
      "metadata": {
        "id": "o5hV_-3zE1rT",
        "colab_type": "code",
        "outputId": "6bb5dc77-6e12-4432-d47b-b39c4c670d14",
        "colab": {
          "base_uri": "https://localhost:8080/",
          "height": 238
        }
      },
      "cell_type": "code",
      "source": [
        "!ls /content/drive/My\\ Drive/DentalPanoramicXrays/Images\n"
      ],
      "execution_count": 86,
      "outputs": [
        {
          "output_type": "stream",
          "text": [
            "100.png  112.png  19.png  30.png  42.png  54.png  66.png  78.png  8.png\n",
            "101.png  113.png  1.png   31.png  43.png  55.png  67.png  79.png  90.png\n",
            "102.png  114.png  20.png  32.png  44.png  56.png  68.png  7.png   91.png\n",
            "103.png  115.png  21.png  33.png  45.png  57.png  69.png  80.png  92.png\n",
            "104.png  116.png  22.png  34.png  46.png  58.png  6.png   81.png  93.png\n",
            "105.png  11.png   23.png  35.png  47.png  59.png  70.png  82.png  94.png\n",
            "106.png  12.png   24.png  36.png  48.png  5.png   71.png  83.png  95.png\n",
            "107.png  13.png   25.png  37.png  49.png  60.png  72.png  84.png  96.png\n",
            "108.png  14.png   26.png  38.png  4.png   61.png  73.png  85.png  97.png\n",
            "109.png  15.png   27.png  39.png  50.png  62.png  74.png  86.png  98.png\n",
            "10.png\t 16.png   28.png  3.png   51.png  63.png  75.png  87.png  99.png\n",
            "110.png  17.png   29.png  40.png  52.png  64.png  76.png  88.png  9.png\n",
            "111.png  18.png   2.png   41.png  53.png  65.png  77.png  89.png\n"
          ],
          "name": "stdout"
        }
      ]
    },
    {
      "metadata": {
        "id": "tqh0Z0ZODetU",
        "colab_type": "text"
      },
      "cell_type": "markdown",
      "source": [
        "##Load the necessary packages"
      ]
    },
    {
      "metadata": {
        "id": "siSDPsrbDdrq",
        "colab_type": "code",
        "colab": {}
      },
      "cell_type": "code",
      "source": [
        "import os\n",
        "import numpy as np\n",
        "import torch\n",
        "import torchvision\n",
        "from torchvision import datasets, models, transforms\n",
        "import matplotlib.pyplot as plt\n",
        "import matplotlib.image as mpimg\n",
        "%matplotlib inline"
      ],
      "execution_count": 0,
      "outputs": []
    },
    {
      "metadata": {
        "id": "YWTZ3oJgCq04",
        "colab_type": "text"
      },
      "cell_type": "markdown",
      "source": [
        "##Loading Sample Dataset"
      ]
    },
    {
      "metadata": {
        "id": "M3S7_jHGCvjv",
        "colab_type": "code",
        "colab": {}
      },
      "cell_type": "code",
      "source": [
        "def load_image(src):\n",
        "  img=mpimg.imread(src)\n",
        "  plt.axis('off')\n",
        "  plt.imshow(img)\n"
      ],
      "execution_count": 0,
      "outputs": []
    },
    {
      "metadata": {
        "id": "rac9g04CLnWp",
        "colab_type": "code",
        "outputId": "1c013631-1b1a-4e96-874b-719c3b23f63a",
        "colab": {
          "base_uri": "https://localhost:8080/",
          "height": 192
        }
      },
      "cell_type": "code",
      "source": [
        "data_dir = \"/content/drive/My Drive/DentalPanoramicXrays/Images/\"\n",
        "load_image(data_dir+str(10)+'.png')"
      ],
      "execution_count": 89,
      "outputs": [
        {
          "output_type": "display_data",
          "data": {
            "image/png": "[encoded data removed]",
            "text/plain": [
              "<Figure size 432x288 with 1 Axes>"
            ]
          },
          "metadata": {
            "tags": []
          }
        }
      ]
    },
    {
      "metadata": {
        "id": "oMTdLs-9FuND",
        "colab_type": "code",
        "outputId": "46a8a40a-b98f-47a5-a6bc-dc956f1adb45",
        "colab": {
          "base_uri": "https://localhost:8080/",
          "height": 192
        }
      },
      "cell_type": "code",
      "source": [
        "#Enhancing for processing\n",
        "img=mpimg.imread(data_dir+'%d.png'%(10))\n",
        "plt.axis('off')\n",
        "imgplot = plt.imshow(img, clim=(0.09, 0.7))"
      ],
      "execution_count": 90,
      "outputs": [
        {
          "output_type": "display_data",
          "data": {
            "image/png": "[encoded data removed]",
            "text/plain": [
              "<Figure size 432x288 with 1 Axes>"
            ]
          },
          "metadata": {
            "tags": []
          }
        }
      ]
    },
    {
      "metadata": {
        "id": "4e5VExFbr9AG",
        "colab_type": "text"
      },
      "cell_type": "markdown",
      "source": [
        "Importing the dataset"
      ]
    },
    {
      "metadata": {
        "id": "0KoEpHVwJMLc",
        "colab_type": "code",
        "colab": {}
      },
      "cell_type": "code",
      "source": [
        "import os\n",
        "from torchvision import datasets\n",
        "import torchvision.transforms as transforms\n",
        "import torch\n",
        "import numpy as np\n",
        "from PIL import ImageFile\n",
        "ImageFile.LOAD_TRUNCATED_IMAGES = True\n",
        "import torchvision.models as models\n",
        "\n",
        "\n",
        "\n",
        "## Specify appropriate transforms, and batch_sizes\n",
        "\n",
        "batch_size = 4\n",
        "num_workers = 0\n",
        "\n",
        "data_dir = '/content/drive/My Drive/dental_data'\n",
        "train_dir = os.path.join(data_dir, 'train/')\n",
        "valid_dir = os.path.join(data_dir, 'train/')\n",
        "test_dir = os.path.join(data_dir, 'train/')\n"
      ],
      "execution_count": 0,
      "outputs": []
    },
    {
      "metadata": {
        "id": "jxEfjO6tzU-1",
        "colab_type": "code",
        "colab": {}
      },
      "cell_type": "code",
      "source": [
        "standard_normalization = transforms.Normalize(mean=[0.485, 0.456, 0.406],\n",
        "                                              std=[0.229, 0.224, 0.225])\n",
        "data_transforms = {'train': transforms.Compose([transforms.RandomResizedCrop(224),\n",
        "    \n",
        "                                     transforms.Grayscale(num_output_channels=3),\n",
        "                                     transforms.ToTensor(),\n",
        "                                     standard_normalization]),\n",
        "                   'val': transforms.Compose([transforms.Resize(256),\n",
        "                                     transforms.CenterCrop(224),\n",
        "                                     transforms.Grayscale(num_output_channels=3),\n",
        "                                     transforms.ToTensor(),\n",
        "                                     standard_normalization]),\n",
        "                   'test': transforms.Compose([transforms.Resize(size=(224,224)),\n",
        "                                     transforms.Grayscale(num_output_channels=3),\n",
        "                                     transforms.ToTensor(), \n",
        "                                     standard_normalization])\n",
        "                  }"
      ],
      "execution_count": 0,
      "outputs": []
    },
    {
      "metadata": {
        "id": "hoR8OIBUzjKW",
        "colab_type": "code",
        "colab": {}
      },
      "cell_type": "code",
      "source": [
        "train_data = datasets.ImageFolder(train_dir, transform=data_transforms['train'])\n",
        "valid_data = datasets.ImageFolder(valid_dir, transform=data_transforms['val'])\n",
        "test_data = datasets.ImageFolder(test_dir, transform=data_transforms['test'])\n"
      ],
      "execution_count": 0,
      "outputs": []
    },
    {
      "metadata": {
        "id": "QFg_Ru-xzvee",
        "colab_type": "code",
        "colab": {}
      },
      "cell_type": "code",
      "source": [
        "train_loader = torch.utils.data.DataLoader(train_data,\n",
        "                                           batch_size=batch_size, \n",
        "                                           num_workers=num_workers,\n",
        "                                           shuffle=True)\n",
        "valid_loader = torch.utils.data.DataLoader(valid_data,\n",
        "                                           batch_size=batch_size, \n",
        "                                           num_workers=num_workers,\n",
        "                                           shuffle=False)\n",
        "test_loader = torch.utils.data.DataLoader(test_data,\n",
        "                                           batch_size=batch_size, \n",
        "                                           num_workers=num_workers,\n",
        "                                           shuffle=False)\n",
        "loaders_transfer = {\n",
        "    'train': train_loader,\n",
        "    'valid': valid_loader,\n",
        "    'test': test_loader\n",
        "}"
      ],
      "execution_count": 0,
      "outputs": []
    },
    {
      "metadata": {
        "id": "7qLU664AzzQc",
        "colab_type": "code",
        "colab": {}
      },
      "cell_type": "code",
      "source": [
        "# check if CUDA is available\n",
        "use_cuda = torch.cuda.is_available()"
      ],
      "execution_count": 0,
      "outputs": []
    },
    {
      "metadata": {
        "id": "EXvQiE98z5_E",
        "colab_type": "text"
      },
      "cell_type": "markdown",
      "source": [
        "# Define Architecture for Transfer Learning Resnet50"
      ]
    },
    {
      "metadata": {
        "id": "fGDPixQxz1ov",
        "colab_type": "code",
        "colab": {}
      },
      "cell_type": "code",
      "source": [
        "from PIL import ImageFile\n",
        "ImageFile.LOAD_TRUNCATED_IMAGES = True\n",
        "\n",
        "num_classes = 4 # total classes of teeth here incisor, canine, premolar, molar"
      ],
      "execution_count": 0,
      "outputs": []
    },
    {
      "metadata": {
        "id": "sXFjOWlsz_fw",
        "colab_type": "code",
        "colab": {}
      },
      "cell_type": "code",
      "source": [
        "import torchvision.models as models\n",
        "import torch.nn as nn\n",
        "#Specify model architecture \n",
        "model_transfer = models.resnet50(pretrained=True)"
      ],
      "execution_count": 0,
      "outputs": []
    },
    {
      "metadata": {
        "id": "9_aoBCiS0nsX",
        "colab_type": "code",
        "colab": {}
      },
      "cell_type": "code",
      "source": [
        "\n",
        "for param in model_transfer.parameters():\n",
        "    param.requires_grad = False"
      ],
      "execution_count": 0,
      "outputs": []
    },
    {
      "metadata": {
        "id": "Bh6VKKJD0p9n",
        "colab_type": "code",
        "colab": {}
      },
      "cell_type": "code",
      "source": [
        "model_transfer.fc = nn.Linear(2048, 4, bias=True)"
      ],
      "execution_count": 0,
      "outputs": []
    },
    {
      "metadata": {
        "id": "-GK0fTZ90swh",
        "colab_type": "code",
        "colab": {}
      },
      "cell_type": "code",
      "source": [
        "fc_parameters = model_transfer.fc.parameters()"
      ],
      "execution_count": 0,
      "outputs": []
    },
    {
      "metadata": {
        "id": "nz6n6H9Z0vmq",
        "colab_type": "code",
        "colab": {}
      },
      "cell_type": "code",
      "source": [
        "for param in fc_parameters:\n",
        "    param.requires_grad = True\n",
        "\n",
        "if use_cuda:\n",
        "    model_transfer = model_transfer.cuda()"
      ],
      "execution_count": 0,
      "outputs": []
    },
    {
      "metadata": {
        "id": "gtCJCLeJ1AVh",
        "colab_type": "code",
        "colab": {}
      },
      "cell_type": "code",
      "source": [
        "import torch.optim as optim\n",
        "\n",
        "criterion_transfer = nn.CrossEntropyLoss()\n",
        "optimizer_transfer = optim.SGD(model_transfer.fc.parameters(), lr=0.001)"
      ],
      "execution_count": 0,
      "outputs": []
    },
    {
      "metadata": {
        "id": "MkruOQJk1MgP",
        "colab_type": "text"
      },
      "cell_type": "markdown",
      "source": [
        "# Training "
      ]
    },
    {
      "metadata": {
        "id": "ZgsqLY351D7Q",
        "colab_type": "code",
        "colab": {}
      },
      "cell_type": "code",
      "source": [
        "def train(n_epochs, loaders, model, optimizer, criterion, use_cuda, save_path):\n",
        "    \"\"\"returns trained model\"\"\"\n",
        "    # initialize tracker for minimum validation loss\n",
        "    valid_loss_min = np.Inf\n",
        "    \n",
        "    for epoch in range(1, n_epochs+1):\n",
        "        # initialize variables to monitor training and validation loss\n",
        "        train_loss = 0.0\n",
        "        valid_loss = 0.0\n",
        "        \n",
        "        ###################\n",
        "        # train the model #\n",
        "        ###################\n",
        "        model.train()\n",
        "        for batch_idx, (data, target) in enumerate(loaders['train']):\n",
        "            # move to GPU\n",
        "            if use_cuda:\n",
        "                data, target = data.cuda(), target.cuda()\n",
        "\n",
        "            # initialize weights to zero\n",
        "            optimizer.zero_grad()\n",
        "            \n",
        "            output = model(data)\n",
        "            \n",
        "            # calculate loss\n",
        "            loss = criterion(output, target)\n",
        "            \n",
        "            # back prop\n",
        "            loss.backward()\n",
        "            \n",
        "            # grad\n",
        "            optimizer.step()\n",
        "            \n",
        "            train_loss = train_loss + ((1 / (batch_idx + 1)) * (loss.data - train_loss))\n",
        "            \n",
        "            if batch_idx % 100 == 0:\n",
        "                print('Epoch %d, Batch %d loss: %.6f' %\n",
        "                  (epoch, batch_idx + 1, train_loss))\n",
        "        \n",
        "        ######################    \n",
        "        # validate the model #\n",
        "        ######################\n",
        "        model.eval()\n",
        "        for batch_idx, (data, target) in enumerate(loaders['train']):\n",
        "            # move to GPU\n",
        "            if use_cuda:\n",
        "                data, target = data.cuda(), target.cuda()\n",
        "            ## update the average validation loss\n",
        "            output = model(data)\n",
        "            loss = criterion(output, target)\n",
        "            valid_loss = valid_loss + ((1 / (batch_idx + 1)) * (loss.data - valid_loss))\n",
        "\n",
        "            \n",
        "        # print training/validation statistics \n",
        "        print('Epoch: {} \\tTraining Loss: {:.6f} \\tValidation Loss: {:.6f}'.format(\n",
        "            epoch, \n",
        "            train_loss,\n",
        "            valid_loss\n",
        "            ))\n",
        "        \n",
        "        ## TODO: save the model if validation loss has decreased\n",
        "        if valid_loss < valid_loss_min:\n",
        "            torch.save(model.state_dict(), save_path)\n",
        "            print('Validation loss decreased ({:.6f} --> {:.6f}).  Saving model ...'.format(\n",
        "            valid_loss_min,\n",
        "            valid_loss))\n",
        "            valid_loss_min = valid_loss\n",
        "            \n",
        "    # return trained model\n",
        "    return model"
      ],
      "execution_count": 0,
      "outputs": []
    },
    {
      "metadata": {
        "id": "GLRNQSJR1PQ6",
        "colab_type": "code",
        "outputId": "fa2c7fba-365b-4978-eb54-b112c528fff0",
        "colab": {
          "base_uri": "https://localhost:8080/",
          "height": 6273
        }
      },
      "cell_type": "code",
      "source": [
        "train(30, loaders_transfer, model_transfer, optimizer_transfer, criterion_transfer, use_cuda, 'model_transfer.pt')"
      ],
      "execution_count": 104,
      "outputs": [
        {
          "output_type": "stream",
          "text": [
            "Epoch 1, Batch 1 loss: 1.134382\n",
            "Epoch 1, Batch 101 loss: 1.323762\n",
            "Epoch 1, Batch 201 loss: 1.308909\n",
            "Epoch 1, Batch 301 loss: 1.271209\n",
            "Epoch 1, Batch 401 loss: 1.266185\n",
            "Epoch: 1 \tTraining Loss: 1.266673 \tValidation Loss: 1.136360\n",
            "Validation loss decreased (inf --> 1.136360).  Saving model ...\n",
            "Epoch 2, Batch 1 loss: 1.389541\n",
            "Epoch 2, Batch 101 loss: 1.201639\n",
            "Epoch 2, Batch 201 loss: 1.216373\n",
            "Epoch 2, Batch 301 loss: 1.208921\n",
            "Epoch 2, Batch 401 loss: 1.199430\n",
            "Epoch: 2 \tTraining Loss: 1.197077 \tValidation Loss: 1.092807\n",
            "Validation loss decreased (1.136360 --> 1.092807).  Saving model ...\n",
            "Epoch 3, Batch 1 loss: 1.030184\n",
            "Epoch 3, Batch 101 loss: 1.161217\n",
            "Epoch 3, Batch 201 loss: 1.163916\n",
            "Epoch 3, Batch 301 loss: 1.173056\n",
            "Epoch 3, Batch 401 loss: 1.176770\n",
            "Epoch: 3 \tTraining Loss: 1.172757 \tValidation Loss: 1.065640\n",
            "Validation loss decreased (1.092807 --> 1.065640).  Saving model ...\n",
            "Epoch 4, Batch 1 loss: 0.653961\n",
            "Epoch 4, Batch 101 loss: 1.129899\n",
            "Epoch 4, Batch 201 loss: 1.138702\n",
            "Epoch 4, Batch 301 loss: 1.136271\n",
            "Epoch 4, Batch 401 loss: 1.139692\n",
            "Epoch: 4 \tTraining Loss: 1.143117 \tValidation Loss: 1.029050\n",
            "Validation loss decreased (1.065640 --> 1.029050).  Saving model ...\n",
            "Epoch 5, Batch 1 loss: 0.915462\n",
            "Epoch 5, Batch 101 loss: 1.159096\n",
            "Epoch 5, Batch 201 loss: 1.147483\n",
            "Epoch 5, Batch 301 loss: 1.145850\n",
            "Epoch 5, Batch 401 loss: 1.129154\n",
            "Epoch: 5 \tTraining Loss: 1.127896 \tValidation Loss: 1.041943\n",
            "Epoch 6, Batch 1 loss: 1.267024\n",
            "Epoch 6, Batch 101 loss: 1.171013\n",
            "Epoch 6, Batch 201 loss: 1.147127\n",
            "Epoch 6, Batch 301 loss: 1.131368\n",
            "Epoch 6, Batch 401 loss: 1.116235\n",
            "Epoch: 6 \tTraining Loss: 1.113503 \tValidation Loss: 1.026221\n",
            "Validation loss decreased (1.029050 --> 1.026221).  Saving model ...\n",
            "Epoch 7, Batch 1 loss: 0.995311\n",
            "Epoch 7, Batch 101 loss: 1.109052\n",
            "Epoch 7, Batch 201 loss: 1.124500\n",
            "Epoch 7, Batch 301 loss: 1.116397\n",
            "Epoch 7, Batch 401 loss: 1.117849\n",
            "Epoch: 7 \tTraining Loss: 1.117236 \tValidation Loss: 1.010136\n",
            "Validation loss decreased (1.026221 --> 1.010136).  Saving model ...\n",
            "Epoch 8, Batch 1 loss: 1.271006\n",
            "Epoch 8, Batch 101 loss: 1.108360\n",
            "Epoch 8, Batch 201 loss: 1.079251\n",
            "Epoch 8, Batch 301 loss: 1.105495\n",
            "Epoch 8, Batch 401 loss: 1.114015\n",
            "Epoch: 8 \tTraining Loss: 1.116081 \tValidation Loss: 0.981665\n",
            "Validation loss decreased (1.010136 --> 0.981665).  Saving model ...\n",
            "Epoch 9, Batch 1 loss: 0.923038\n",
            "Epoch 9, Batch 101 loss: 1.155125\n",
            "Epoch 9, Batch 201 loss: 1.145635\n",
            "Epoch 9, Batch 301 loss: 1.115039\n",
            "Epoch 9, Batch 401 loss: 1.112330\n",
            "Epoch: 9 \tTraining Loss: 1.111664 \tValidation Loss: 1.019281\n",
            "Epoch 10, Batch 1 loss: 1.767829\n",
            "Epoch 10, Batch 101 loss: 1.126441\n",
            "Epoch 10, Batch 201 loss: 1.134046\n",
            "Epoch 10, Batch 301 loss: 1.128240\n",
            "Epoch 10, Batch 401 loss: 1.116161\n",
            "Epoch: 10 \tTraining Loss: 1.119780 \tValidation Loss: 1.010345\n",
            "Epoch 11, Batch 1 loss: 1.010589\n",
            "Epoch 11, Batch 101 loss: 1.127871\n",
            "Epoch 11, Batch 201 loss: 1.116127\n",
            "Epoch 11, Batch 301 loss: 1.121138\n",
            "Epoch 11, Batch 401 loss: 1.113546\n",
            "Epoch: 11 \tTraining Loss: 1.110063 \tValidation Loss: 1.033388\n",
            "Epoch 12, Batch 1 loss: 1.100401\n",
            "Epoch 12, Batch 101 loss: 1.069317\n",
            "Epoch 12, Batch 201 loss: 1.085321\n",
            "Epoch 12, Batch 301 loss: 1.098683\n",
            "Epoch 12, Batch 401 loss: 1.103577\n",
            "Epoch: 12 \tTraining Loss: 1.105366 \tValidation Loss: 0.976756\n",
            "Validation loss decreased (0.981665 --> 0.976756).  Saving model ...\n",
            "Epoch 13, Batch 1 loss: 1.103722\n",
            "Epoch 13, Batch 101 loss: 1.132030\n",
            "Epoch 13, Batch 201 loss: 1.120629\n",
            "Epoch 13, Batch 301 loss: 1.114697\n",
            "Epoch 13, Batch 401 loss: 1.105753\n",
            "Epoch: 13 \tTraining Loss: 1.107458 \tValidation Loss: 0.999715\n",
            "Epoch 14, Batch 1 loss: 1.125661\n",
            "Epoch 14, Batch 101 loss: 1.131782\n",
            "Epoch 14, Batch 201 loss: 1.132831\n",
            "Epoch 14, Batch 301 loss: 1.112966\n",
            "Epoch 14, Batch 401 loss: 1.108783\n",
            "Epoch: 14 \tTraining Loss: 1.107383 \tValidation Loss: 1.018683\n",
            "Epoch 15, Batch 1 loss: 0.654943\n",
            "Epoch 15, Batch 101 loss: 1.083434\n",
            "Epoch 15, Batch 201 loss: 1.086460\n",
            "Epoch 15, Batch 301 loss: 1.100567\n",
            "Epoch 15, Batch 401 loss: 1.092025\n",
            "Epoch: 15 \tTraining Loss: 1.098804 \tValidation Loss: 0.966952\n",
            "Validation loss decreased (0.976756 --> 0.966952).  Saving model ...\n",
            "Epoch 16, Batch 1 loss: 1.210731\n",
            "Epoch 16, Batch 101 loss: 1.093820\n",
            "Epoch 16, Batch 201 loss: 1.103017\n",
            "Epoch 16, Batch 301 loss: 1.111604\n",
            "Epoch 16, Batch 401 loss: 1.100206\n",
            "Epoch: 16 \tTraining Loss: 1.097600 \tValidation Loss: 0.974776\n",
            "Epoch 17, Batch 1 loss: 0.945833\n",
            "Epoch 17, Batch 101 loss: 1.082202\n",
            "Epoch 17, Batch 201 loss: 1.057894\n",
            "Epoch 17, Batch 301 loss: 1.067485\n",
            "Epoch 17, Batch 401 loss: 1.087023\n",
            "Epoch: 17 \tTraining Loss: 1.088007 \tValidation Loss: 0.944006\n",
            "Validation loss decreased (0.966952 --> 0.944006).  Saving model ...\n",
            "Epoch 18, Batch 1 loss: 1.029059\n",
            "Epoch 18, Batch 101 loss: 1.129946\n",
            "Epoch 18, Batch 201 loss: 1.123476\n",
            "Epoch 18, Batch 301 loss: 1.093525\n",
            "Epoch 18, Batch 401 loss: 1.096159\n",
            "Epoch: 18 \tTraining Loss: 1.093675 \tValidation Loss: 0.969396\n",
            "Epoch 19, Batch 1 loss: 1.076892\n",
            "Epoch 19, Batch 101 loss: 1.090910\n",
            "Epoch 19, Batch 201 loss: 1.092407\n",
            "Epoch 19, Batch 301 loss: 1.077838\n",
            "Epoch 19, Batch 401 loss: 1.105263\n",
            "Epoch: 19 \tTraining Loss: 1.111693 \tValidation Loss: 0.966864\n",
            "Epoch 20, Batch 1 loss: 1.146506\n",
            "Epoch 20, Batch 101 loss: 1.125828\n",
            "Epoch 20, Batch 201 loss: 1.106012\n",
            "Epoch 20, Batch 301 loss: 1.127058\n",
            "Epoch 20, Batch 401 loss: 1.115863\n",
            "Epoch: 20 \tTraining Loss: 1.108217 \tValidation Loss: 1.028982\n",
            "Epoch 21, Batch 1 loss: 1.408793\n",
            "Epoch 21, Batch 101 loss: 1.091239\n",
            "Epoch 21, Batch 201 loss: 1.098541\n",
            "Epoch 21, Batch 301 loss: 1.091297\n",
            "Epoch 21, Batch 401 loss: 1.092255\n",
            "Epoch: 21 \tTraining Loss: 1.089274 \tValidation Loss: 1.014662\n",
            "Epoch 22, Batch 1 loss: 1.149218\n",
            "Epoch 22, Batch 101 loss: 1.083133\n",
            "Epoch 22, Batch 201 loss: 1.107007\n",
            "Epoch 22, Batch 301 loss: 1.103283\n",
            "Epoch 22, Batch 401 loss: 1.101243\n",
            "Epoch: 22 \tTraining Loss: 1.094483 \tValidation Loss: 1.026590\n",
            "Epoch 23, Batch 1 loss: 1.014886\n",
            "Epoch 23, Batch 101 loss: 1.076324\n",
            "Epoch 23, Batch 201 loss: 1.074022\n",
            "Epoch 23, Batch 301 loss: 1.077438\n",
            "Epoch 23, Batch 401 loss: 1.062996\n",
            "Epoch: 23 \tTraining Loss: 1.062488 \tValidation Loss: 0.969853\n",
            "Epoch 24, Batch 1 loss: 0.607403\n",
            "Epoch 24, Batch 101 loss: 1.058730\n",
            "Epoch 24, Batch 201 loss: 1.066630\n",
            "Epoch 24, Batch 301 loss: 1.069212\n",
            "Epoch 24, Batch 401 loss: 1.065611\n",
            "Epoch: 24 \tTraining Loss: 1.066596 \tValidation Loss: 0.952886\n",
            "Epoch 25, Batch 1 loss: 1.319719\n",
            "Epoch 25, Batch 101 loss: 1.059265\n",
            "Epoch 25, Batch 201 loss: 1.094606\n",
            "Epoch 25, Batch 301 loss: 1.087881\n",
            "Epoch 25, Batch 401 loss: 1.082462\n",
            "Epoch: 25 \tTraining Loss: 1.084256 \tValidation Loss: 0.999202\n",
            "Epoch 26, Batch 1 loss: 0.895897\n",
            "Epoch 26, Batch 101 loss: 1.111889\n",
            "Epoch 26, Batch 201 loss: 1.070972\n",
            "Epoch 26, Batch 301 loss: 1.086863\n",
            "Epoch 26, Batch 401 loss: 1.088456\n",
            "Epoch: 26 \tTraining Loss: 1.091040 \tValidation Loss: 0.933528\n",
            "Validation loss decreased (0.944006 --> 0.933528).  Saving model ...\n",
            "Epoch 27, Batch 1 loss: 1.337467\n",
            "Epoch 27, Batch 101 loss: 1.142396\n",
            "Epoch 27, Batch 201 loss: 1.072766\n",
            "Epoch 27, Batch 301 loss: 1.084244\n",
            "Epoch 27, Batch 401 loss: 1.091926\n",
            "Epoch: 27 \tTraining Loss: 1.089252 \tValidation Loss: 0.968659\n",
            "Epoch 28, Batch 1 loss: 0.645874\n",
            "Epoch 28, Batch 101 loss: 1.066752\n",
            "Epoch 28, Batch 201 loss: 1.062886\n",
            "Epoch 28, Batch 301 loss: 1.069384\n",
            "Epoch 28, Batch 401 loss: 1.066404\n",
            "Epoch: 28 \tTraining Loss: 1.063150 \tValidation Loss: 0.982874\n",
            "Epoch 29, Batch 1 loss: 0.809194\n",
            "Epoch 29, Batch 101 loss: 1.028029\n",
            "Epoch 29, Batch 201 loss: 1.058642\n",
            "Epoch 29, Batch 301 loss: 1.071728\n",
            "Epoch 29, Batch 401 loss: 1.086230\n",
            "Epoch: 29 \tTraining Loss: 1.083255 \tValidation Loss: 0.961761\n",
            "Epoch 30, Batch 1 loss: 0.747582\n",
            "Epoch 30, Batch 101 loss: 1.049590\n",
            "Epoch 30, Batch 201 loss: 1.049732\n",
            "Epoch 30, Batch 301 loss: 1.059754\n",
            "Epoch 30, Batch 401 loss: 1.056448\n",
            "Epoch: 30 \tTraining Loss: 1.054953 \tValidation Loss: 0.927184\n",
            "Validation loss decreased (0.933528 --> 0.927184).  Saving model ...\n"
          ],
          "name": "stdout"
        },
        {
          "output_type": "execute_result",
          "data": {
            "text/plain": [
              "ResNet(\n",
              "  (conv1): Conv2d(3, 64, kernel_size=(7, 7), stride=(2, 2), padding=(3, 3), bias=False)\n",
              "  (bn1): BatchNorm2d(64, eps=1e-05, momentum=0.1, affine=True, track_running_stats=True)\n",
              "  (relu): ReLU(inplace)\n",
              "  (maxpool): MaxPool2d(kernel_size=3, stride=2, padding=1, dilation=1, ceil_mode=False)\n",
              "  (layer1): Sequential(\n",
              "    (0): Bottleneck(\n",
              "      (conv1): Conv2d(64, 64, kernel_size=(1, 1), stride=(1, 1), bias=False)\n",
              "      (bn1): BatchNorm2d(64, eps=1e-05, momentum=0.1, affine=True, track_running_stats=True)\n",
              "      (conv2): Conv2d(64, 64, kernel_size=(3, 3), stride=(1, 1), padding=(1, 1), bias=False)\n",
              "      (bn2): BatchNorm2d(64, eps=1e-05, momentum=0.1, affine=True, track_running_stats=True)\n",
              "      (conv3): Conv2d(64, 256, kernel_size=(1, 1), stride=(1, 1), bias=False)\n",
              "      (bn3): BatchNorm2d(256, eps=1e-05, momentum=0.1, affine=True, track_running_stats=True)\n",
              "      (relu): ReLU(inplace)\n",
              "      (downsample): Sequential(\n",
              "        (0): Conv2d(64, 256, kernel_size=(1, 1), stride=(1, 1), bias=False)\n",
              "        (1): BatchNorm2d(256, eps=1e-05, momentum=0.1, affine=True, track_running_stats=True)\n",
              "      )\n",
              "    )\n",
              "    (1): Bottleneck(\n",
              "      (conv1): Conv2d(256, 64, kernel_size=(1, 1), stride=(1, 1), bias=False)\n",
              "      (bn1): BatchNorm2d(64, eps=1e-05, momentum=0.1, affine=True, track_running_stats=True)\n",
              "      (conv2): Conv2d(64, 64, kernel_size=(3, 3), stride=(1, 1), padding=(1, 1), bias=False)\n",
              "      (bn2): BatchNorm2d(64, eps=1e-05, momentum=0.1, affine=True, track_running_stats=True)\n",
              "      (conv3): Conv2d(64, 256, kernel_size=(1, 1), stride=(1, 1), bias=False)\n",
              "      (bn3): BatchNorm2d(256, eps=1e-05, momentum=0.1, affine=True, track_running_stats=True)\n",
              "      (relu): ReLU(inplace)\n",
              "    )\n",
              "    (2): Bottleneck(\n",
              "      (conv1): Conv2d(256, 64, kernel_size=(1, 1), stride=(1, 1), bias=False)\n",
              "      (bn1): BatchNorm2d(64, eps=1e-05, momentum=0.1, affine=True, track_running_stats=True)\n",
              "      (conv2): Conv2d(64, 64, kernel_size=(3, 3), stride=(1, 1), padding=(1, 1), bias=False)\n",
              "      (bn2): BatchNorm2d(64, eps=1e-05, momentum=0.1, affine=True, track_running_stats=True)\n",
              "      (conv3): Conv2d(64, 256, kernel_size=(1, 1), stride=(1, 1), bias=False)\n",
              "      (bn3): BatchNorm2d(256, eps=1e-05, momentum=0.1, affine=True, track_running_stats=True)\n",
              "      (relu): ReLU(inplace)\n",
              "    )\n",
              "  )\n",
              "  (layer2): Sequential(\n",
              "    (0): Bottleneck(\n",
              "      (conv1): Conv2d(256, 128, kernel_size=(1, 1), stride=(1, 1), bias=False)\n",
              "      (bn1): BatchNorm2d(128, eps=1e-05, momentum=0.1, affine=True, track_running_stats=True)\n",
              "      (conv2): Conv2d(128, 128, kernel_size=(3, 3), stride=(2, 2), padding=(1, 1), bias=False)\n",
              "      (bn2): BatchNorm2d(128, eps=1e-05, momentum=0.1, affine=True, track_running_stats=True)\n",
              "      (conv3): Conv2d(128, 512, kernel_size=(1, 1), stride=(1, 1), bias=False)\n",
              "      (bn3): BatchNorm2d(512, eps=1e-05, momentum=0.1, affine=True, track_running_stats=True)\n",
              "      (relu): ReLU(inplace)\n",
              "      (downsample): Sequential(\n",
              "        (0): Conv2d(256, 512, kernel_size=(1, 1), stride=(2, 2), bias=False)\n",
              "        (1): BatchNorm2d(512, eps=1e-05, momentum=0.1, affine=True, track_running_stats=True)\n",
              "      )\n",
              "    )\n",
              "    (1): Bottleneck(\n",
              "      (conv1): Conv2d(512, 128, kernel_size=(1, 1), stride=(1, 1), bias=False)\n",
              "      (bn1): BatchNorm2d(128, eps=1e-05, momentum=0.1, affine=True, track_running_stats=True)\n",
              "      (conv2): Conv2d(128, 128, kernel_size=(3, 3), stride=(1, 1), padding=(1, 1), bias=False)\n",
              "      (bn2): BatchNorm2d(128, eps=1e-05, momentum=0.1, affine=True, track_running_stats=True)\n",
              "      (conv3): Conv2d(128, 512, kernel_size=(1, 1), stride=(1, 1), bias=False)\n",
              "      (bn3): BatchNorm2d(512, eps=1e-05, momentum=0.1, affine=True, track_running_stats=True)\n",
              "      (relu): ReLU(inplace)\n",
              "    )\n",
              "    (2): Bottleneck(\n",
              "      (conv1): Conv2d(512, 128, kernel_size=(1, 1), stride=(1, 1), bias=False)\n",
              "      (bn1): BatchNorm2d(128, eps=1e-05, momentum=0.1, affine=True, track_running_stats=True)\n",
              "      (conv2): Conv2d(128, 128, kernel_size=(3, 3), stride=(1, 1), padding=(1, 1), bias=False)\n",
              "      (bn2): BatchNorm2d(128, eps=1e-05, momentum=0.1, affine=True, track_running_stats=True)\n",
              "      (conv3): Conv2d(128, 512, kernel_size=(1, 1), stride=(1, 1), bias=False)\n",
              "      (bn3): BatchNorm2d(512, eps=1e-05, momentum=0.1, affine=True, track_running_stats=True)\n",
              "      (relu): ReLU(inplace)\n",
              "    )\n",
              "    (3): Bottleneck(\n",
              "      (conv1): Conv2d(512, 128, kernel_size=(1, 1), stride=(1, 1), bias=False)\n",
              "      (bn1): BatchNorm2d(128, eps=1e-05, momentum=0.1, affine=True, track_running_stats=True)\n",
              "      (conv2): Conv2d(128, 128, kernel_size=(3, 3), stride=(1, 1), padding=(1, 1), bias=False)\n",
              "      (bn2): BatchNorm2d(128, eps=1e-05, momentum=0.1, affine=True, track_running_stats=True)\n",
              "      (conv3): Conv2d(128, 512, kernel_size=(1, 1), stride=(1, 1), bias=False)\n",
              "      (bn3): BatchNorm2d(512, eps=1e-05, momentum=0.1, affine=True, track_running_stats=True)\n",
              "      (relu): ReLU(inplace)\n",
              "    )\n",
              "  )\n",
              "  (layer3): Sequential(\n",
              "    (0): Bottleneck(\n",
              "      (conv1): Conv2d(512, 256, kernel_size=(1, 1), stride=(1, 1), bias=False)\n",
              "      (bn1): BatchNorm2d(256, eps=1e-05, momentum=0.1, affine=True, track_running_stats=True)\n",
              "      (conv2): Conv2d(256, 256, kernel_size=(3, 3), stride=(2, 2), padding=(1, 1), bias=False)\n",
              "      (bn2): BatchNorm2d(256, eps=1e-05, momentum=0.1, affine=True, track_running_stats=True)\n",
              "      (conv3): Conv2d(256, 1024, kernel_size=(1, 1), stride=(1, 1), bias=False)\n",
              "      (bn3): BatchNorm2d(1024, eps=1e-05, momentum=0.1, affine=True, track_running_stats=True)\n",
              "      (relu): ReLU(inplace)\n",
              "      (downsample): Sequential(\n",
              "        (0): Conv2d(512, 1024, kernel_size=(1, 1), stride=(2, 2), bias=False)\n",
              "        (1): BatchNorm2d(1024, eps=1e-05, momentum=0.1, affine=True, track_running_stats=True)\n",
              "      )\n",
              "    )\n",
              "    (1): Bottleneck(\n",
              "      (conv1): Conv2d(1024, 256, kernel_size=(1, 1), stride=(1, 1), bias=False)\n",
              "      (bn1): BatchNorm2d(256, eps=1e-05, momentum=0.1, affine=True, track_running_stats=True)\n",
              "      (conv2): Conv2d(256, 256, kernel_size=(3, 3), stride=(1, 1), padding=(1, 1), bias=False)\n",
              "      (bn2): BatchNorm2d(256, eps=1e-05, momentum=0.1, affine=True, track_running_stats=True)\n",
              "      (conv3): Conv2d(256, 1024, kernel_size=(1, 1), stride=(1, 1), bias=False)\n",
              "      (bn3): BatchNorm2d(1024, eps=1e-05, momentum=0.1, affine=True, track_running_stats=True)\n",
              "      (relu): ReLU(inplace)\n",
              "    )\n",
              "    (2): Bottleneck(\n",
              "      (conv1): Conv2d(1024, 256, kernel_size=(1, 1), stride=(1, 1), bias=False)\n",
              "      (bn1): BatchNorm2d(256, eps=1e-05, momentum=0.1, affine=True, track_running_stats=True)\n",
              "      (conv2): Conv2d(256, 256, kernel_size=(3, 3), stride=(1, 1), padding=(1, 1), bias=False)\n",
              "      (bn2): BatchNorm2d(256, eps=1e-05, momentum=0.1, affine=True, track_running_stats=True)\n",
              "      (conv3): Conv2d(256, 1024, kernel_size=(1, 1), stride=(1, 1), bias=False)\n",
              "      (bn3): BatchNorm2d(1024, eps=1e-05, momentum=0.1, affine=True, track_running_stats=True)\n",
              "      (relu): ReLU(inplace)\n",
              "    )\n",
              "    (3): Bottleneck(\n",
              "      (conv1): Conv2d(1024, 256, kernel_size=(1, 1), stride=(1, 1), bias=False)\n",
              "      (bn1): BatchNorm2d(256, eps=1e-05, momentum=0.1, affine=True, track_running_stats=True)\n",
              "      (conv2): Conv2d(256, 256, kernel_size=(3, 3), stride=(1, 1), padding=(1, 1), bias=False)\n",
              "      (bn2): BatchNorm2d(256, eps=1e-05, momentum=0.1, affine=True, track_running_stats=True)\n",
              "      (conv3): Conv2d(256, 1024, kernel_size=(1, 1), stride=(1, 1), bias=False)\n",
              "      (bn3): BatchNorm2d(1024, eps=1e-05, momentum=0.1, affine=True, track_running_stats=True)\n",
              "      (relu): ReLU(inplace)\n",
              "    )\n",
              "    (4): Bottleneck(\n",
              "      (conv1): Conv2d(1024, 256, kernel_size=(1, 1), stride=(1, 1), bias=False)\n",
              "      (bn1): BatchNorm2d(256, eps=1e-05, momentum=0.1, affine=True, track_running_stats=True)\n",
              "      (conv2): Conv2d(256, 256, kernel_size=(3, 3), stride=(1, 1), padding=(1, 1), bias=False)\n",
              "      (bn2): BatchNorm2d(256, eps=1e-05, momentum=0.1, affine=True, track_running_stats=True)\n",
              "      (conv3): Conv2d(256, 1024, kernel_size=(1, 1), stride=(1, 1), bias=False)\n",
              "      (bn3): BatchNorm2d(1024, eps=1e-05, momentum=0.1, affine=True, track_running_stats=True)\n",
              "      (relu): ReLU(inplace)\n",
              "    )\n",
              "    (5): Bottleneck(\n",
              "      (conv1): Conv2d(1024, 256, kernel_size=(1, 1), stride=(1, 1), bias=False)\n",
              "      (bn1): BatchNorm2d(256, eps=1e-05, momentum=0.1, affine=True, track_running_stats=True)\n",
              "      (conv2): Conv2d(256, 256, kernel_size=(3, 3), stride=(1, 1), padding=(1, 1), bias=False)\n",
              "      (bn2): BatchNorm2d(256, eps=1e-05, momentum=0.1, affine=True, track_running_stats=True)\n",
              "      (conv3): Conv2d(256, 1024, kernel_size=(1, 1), stride=(1, 1), bias=False)\n",
              "      (bn3): BatchNorm2d(1024, eps=1e-05, momentum=0.1, affine=True, track_running_stats=True)\n",
              "      (relu): ReLU(inplace)\n",
              "    )\n",
              "  )\n",
              "  (layer4): Sequential(\n",
              "    (0): Bottleneck(\n",
              "      (conv1): Conv2d(1024, 512, kernel_size=(1, 1), stride=(1, 1), bias=False)\n",
              "      (bn1): BatchNorm2d(512, eps=1e-05, momentum=0.1, affine=True, track_running_stats=True)\n",
              "      (conv2): Conv2d(512, 512, kernel_size=(3, 3), stride=(2, 2), padding=(1, 1), bias=False)\n",
              "      (bn2): BatchNorm2d(512, eps=1e-05, momentum=0.1, affine=True, track_running_stats=True)\n",
              "      (conv3): Conv2d(512, 2048, kernel_size=(1, 1), stride=(1, 1), bias=False)\n",
              "      (bn3): BatchNorm2d(2048, eps=1e-05, momentum=0.1, affine=True, track_running_stats=True)\n",
              "      (relu): ReLU(inplace)\n",
              "      (downsample): Sequential(\n",
              "        (0): Conv2d(1024, 2048, kernel_size=(1, 1), stride=(2, 2), bias=False)\n",
              "        (1): BatchNorm2d(2048, eps=1e-05, momentum=0.1, affine=True, track_running_stats=True)\n",
              "      )\n",
              "    )\n",
              "    (1): Bottleneck(\n",
              "      (conv1): Conv2d(2048, 512, kernel_size=(1, 1), stride=(1, 1), bias=False)\n",
              "      (bn1): BatchNorm2d(512, eps=1e-05, momentum=0.1, affine=True, track_running_stats=True)\n",
              "      (conv2): Conv2d(512, 512, kernel_size=(3, 3), stride=(1, 1), padding=(1, 1), bias=False)\n",
              "      (bn2): BatchNorm2d(512, eps=1e-05, momentum=0.1, affine=True, track_running_stats=True)\n",
              "      (conv3): Conv2d(512, 2048, kernel_size=(1, 1), stride=(1, 1), bias=False)\n",
              "      (bn3): BatchNorm2d(2048, eps=1e-05, momentum=0.1, affine=True, track_running_stats=True)\n",
              "      (relu): ReLU(inplace)\n",
              "    )\n",
              "    (2): Bottleneck(\n",
              "      (conv1): Conv2d(2048, 512, kernel_size=(1, 1), stride=(1, 1), bias=False)\n",
              "      (bn1): BatchNorm2d(512, eps=1e-05, momentum=0.1, affine=True, track_running_stats=True)\n",
              "      (conv2): Conv2d(512, 512, kernel_size=(3, 3), stride=(1, 1), padding=(1, 1), bias=False)\n",
              "      (bn2): BatchNorm2d(512, eps=1e-05, momentum=0.1, affine=True, track_running_stats=True)\n",
              "      (conv3): Conv2d(512, 2048, kernel_size=(1, 1), stride=(1, 1), bias=False)\n",
              "      (bn3): BatchNorm2d(2048, eps=1e-05, momentum=0.1, affine=True, track_running_stats=True)\n",
              "      (relu): ReLU(inplace)\n",
              "    )\n",
              "  )\n",
              "  (avgpool): AdaptiveAvgPool2d(output_size=(1, 1))\n",
              "  (fc): Linear(in_features=2048, out_features=4, bias=True)\n",
              ")"
            ]
          },
          "metadata": {
            "tags": []
          },
          "execution_count": 104
        }
      ]
    },
    {
      "metadata": {
        "id": "oVGfPUuN1TjZ",
        "colab_type": "code",
        "colab": {}
      },
      "cell_type": "code",
      "source": [
        "model_transfer.load_state_dict(torch.load('model_transfer.pt'))"
      ],
      "execution_count": 0,
      "outputs": []
    },
    {
      "metadata": {
        "id": "y4s-fW_g3Ic1",
        "colab_type": "code",
        "colab": {}
      },
      "cell_type": "code",
      "source": [
        "def test(loaders, model, criterion, use_cuda):\n",
        "\n",
        "    # monitor test loss and accuracy\n",
        "    test_loss = 0.\n",
        "    correct = 0.\n",
        "    total = 0.\n",
        "\n",
        "    for batch_idx, (data, target) in enumerate(loaders['test']):\n",
        "        # move to GPU\n",
        "        if use_cuda:\n",
        "            data, target = data.cuda(), target.cuda()\n",
        "        # forward pass: compute predicted outputs by passing inputs to the model\n",
        "        output = model(data)\n",
        "        # calculate the loss\n",
        "        loss = criterion(output, target)\n",
        "        # update average test loss \n",
        "        test_loss = test_loss + ((1 / (batch_idx + 1)) * (loss.data - test_loss))\n",
        "        # convert output probabilities to predicted class\n",
        "        pred = output.data.max(1, keepdim=True)[1]\n",
        "        # compare predictions to true label\n",
        "        correct += np.sum(np.squeeze(pred.eq(target.data.view_as(pred))).cpu().numpy())\n",
        "        total += data.size(0)\n",
        "            \n",
        "    print('Test Loss: {:.6f}\\n'.format(test_loss))\n",
        "\n",
        "    print('\\nTest Accuracy: %2d%% (%2d/%2d)' % (\n",
        "        100. * correct / total, correct, total))\n"
      ],
      "execution_count": 0,
      "outputs": []
    },
    {
      "metadata": {
        "id": "mWHWcR5e1mX_",
        "colab_type": "code",
        "outputId": "cf486ea9-bcef-487e-ef26-a77b8205d2b8",
        "colab": {
          "base_uri": "https://localhost:8080/",
          "height": 85
        }
      },
      "cell_type": "code",
      "source": [
        "test(loaders_transfer, model_transfer, criterion_transfer, use_cuda)"
      ],
      "execution_count": 107,
      "outputs": [
        {
          "output_type": "stream",
          "text": [
            "Test Loss: 0.914770\n",
            "\n",
            "\n",
            "Test Accuracy: 60% (1011/1670)\n"
          ],
          "name": "stdout"
        }
      ]
    },
    {
      "metadata": {
        "id": "6gry398h4Vyo",
        "colab_type": "text"
      },
      "cell_type": "markdown",
      "source": [
        "Class label Generation "
      ]
    },
    {
      "metadata": {
        "id": "pLfwF4R74aiN",
        "colab_type": "code",
        "colab": {}
      },
      "cell_type": "code",
      "source": [
        "class_names = [item[4:].replace(\"_\", \" \") for item in loaders_transfer['train'].dataset.classes]\n",
        "from PIL import Image\n",
        "import torchvision.transforms as transforms\n",
        "\n",
        "def load_input_image(img_path):    \n",
        "    image = Image.open(img_path).convert('RGB')\n",
        "    prediction_transform = transforms.Compose([transforms.Resize(size=(224, 224)),\n",
        "                                     transforms.Grayscale(num_output_channels=3),\n",
        "                                     transforms.ToTensor(), \n",
        "                                     standard_normalization])\n",
        "\n",
        "    # discard the transparent, alpha channel (that's the :3) and add the batch dimension\n",
        "    image = prediction_transform(image)[:3,:,:].unsqueeze(0)\n",
        "    return image"
      ],
      "execution_count": 0,
      "outputs": []
    },
    {
      "metadata": {
        "id": "eBkkLi-n4jaJ",
        "colab_type": "code",
        "colab": {}
      },
      "cell_type": "code",
      "source": [
        "\n",
        "def predict_teeth_transfer(model, class_names, img_path):\n",
        "    # load the image and return the predicted teeth \n",
        "    img = load_input_image(img_path)\n",
        "    model = model.cpu()\n",
        "    model.eval()\n",
        "    idx = torch.argmax(model(img))\n",
        "    return class_names[idx]"
      ],
      "execution_count": 0,
      "outputs": []
    },
    {
      "metadata": {
        "id": "BZWaJwG43umo",
        "colab_type": "text"
      },
      "cell_type": "markdown",
      "source": [
        "Testing on Incisors"
      ]
    },
    {
      "metadata": {
        "id": "J_CyvJaV3_yt",
        "colab_type": "code",
        "outputId": "aea8aeb2-96d6-40ac-e071-763782f17a0b",
        "colab": {
          "base_uri": "https://localhost:8080/",
          "height": 2425
        }
      },
      "cell_type": "code",
      "source": [
        "for img_file in os.listdir('/content/drive/My Drive/dental_data/train/002.Incisors'):\n",
        "    img_path = os.path.join('/content/drive/My Drive/dental_data/train/002.Incisors', img_file)\n",
        "    predition = predict_teeth_transfer(model_transfer, class_names, img_path)\n",
        "    print(\"image_file_name: {0}, \\t Teeth Prediction: {1}\".format(img_path, predition))"
      ],
      "execution_count": 110,
      "outputs": [
        {
          "output_type": "stream",
          "text": [
            "image_file_name: /content/drive/My Drive/dental_data/train/002.Incisors/49Layer 1.png, \t Teeth Prediction: Incisors\n",
            "image_file_name: /content/drive/My Drive/dental_data/train/002.Incisors/104Layer 3.png, \t Teeth Prediction: Molars\n",
            "image_file_name: /content/drive/My Drive/dental_data/train/002.Incisors/84Layer 4.png, \t Teeth Prediction: Incisors\n",
            "image_file_name: /content/drive/My Drive/dental_data/train/002.Incisors/58Layer 3.png, \t Teeth Prediction: Incisors\n",
            "image_file_name: /content/drive/My Drive/dental_data/train/002.Incisors/50Layer 5.png, \t Teeth Prediction: Incisors\n",
            "image_file_name: /content/drive/My Drive/dental_data/train/002.Incisors/95Layer 6.png, \t Teeth Prediction: Incisors\n",
            "image_file_name: /content/drive/My Drive/dental_data/train/002.Incisors/76Layer 7.png, \t Teeth Prediction: Incisors\n",
            "image_file_name: /content/drive/My Drive/dental_data/train/002.Incisors/98Layer 5.png, \t Teeth Prediction: Incisors\n",
            "image_file_name: /content/drive/My Drive/dental_data/train/002.Incisors/89Layer 7.png, \t Teeth Prediction: Incisors\n",
            "image_file_name: /content/drive/My Drive/dental_data/train/002.Incisors/81Layer 1.png, \t Teeth Prediction: Incisors\n",
            "image_file_name: /content/drive/My Drive/dental_data/train/002.Incisors/73Layer 2.png, \t Teeth Prediction: Incisors\n",
            "image_file_name: /content/drive/My Drive/dental_data/train/002.Incisors/101Layer 6.png, \t Teeth Prediction: Incisors\n",
            "image_file_name: /content/drive/My Drive/dental_data/train/002.Incisors/110Layer 4.png, \t Teeth Prediction: Incisors\n",
            "image_file_name: /content/drive/My Drive/dental_data/train/002.Incisors/44Layer 2.png, \t Teeth Prediction: Molars\n",
            "image_file_name: /content/drive/My Drive/dental_data/train/002.Incisors/90Layer 3.png, \t Teeth Prediction: Incisors\n",
            "image_file_name: /content/drive/My Drive/dental_data/train/002.Incisors/90Layer 2.png, \t Teeth Prediction: Incisors\n",
            "image_file_name: /content/drive/My Drive/dental_data/train/002.Incisors/101Layer 7.png, \t Teeth Prediction: Incisors\n",
            "image_file_name: /content/drive/My Drive/dental_data/train/002.Incisors/110Layer 5.png, \t Teeth Prediction: Incisors\n",
            "image_file_name: /content/drive/My Drive/dental_data/train/002.Incisors/73Layer 3.png, \t Teeth Prediction: Incisors\n",
            "image_file_name: /content/drive/My Drive/dental_data/train/002.Incisors/62Layer 1.png, \t Teeth Prediction: Incisors\n",
            "image_file_name: /content/drive/My Drive/dental_data/train/002.Incisors/55Layer 1.png, \t Teeth Prediction: Incisors\n",
            "image_file_name: /content/drive/My Drive/dental_data/train/002.Incisors/44Layer 3.png, \t Teeth Prediction: Incisors\n",
            "image_file_name: /content/drive/My Drive/dental_data/train/002.Incisors/110Layer 3 2.png, \t Teeth Prediction: Incisors\n",
            "image_file_name: /content/drive/My Drive/dental_data/train/002.Incisors/98Layer 4.png, \t Teeth Prediction: Incisors\n",
            "image_file_name: /content/drive/My Drive/dental_data/train/002.Incisors/37Layer 1.png, \t Teeth Prediction: Incisors\n",
            "image_file_name: /content/drive/My Drive/dental_data/train/002.Incisors/89Layer 6.png, \t Teeth Prediction: Incisors\n",
            "image_file_name: /content/drive/My Drive/dental_data/train/002.Incisors/76Layer 6.png, \t Teeth Prediction: Incisors\n",
            "image_file_name: /content/drive/My Drive/dental_data/train/002.Incisors/50Layer 4.png, \t Teeth Prediction: Incisors\n",
            "image_file_name: /content/drive/My Drive/dental_data/train/002.Incisors/104Layer 2.png, \t Teeth Prediction: Molars\n",
            "image_file_name: /content/drive/My Drive/dental_data/train/002.Incisors/95Layer 7.png, \t Teeth Prediction: Incisors\n",
            "image_file_name: /content/drive/My Drive/dental_data/train/002.Incisors/58Layer 2.png, \t Teeth Prediction: Premolars\n",
            "image_file_name: /content/drive/My Drive/dental_data/train/002.Incisors/49Layer 2.png, \t Teeth Prediction: Incisors\n",
            "image_file_name: /content/drive/My Drive/dental_data/train/002.Incisors/84Layer 5.png, \t Teeth Prediction: Incisors\n",
            "image_file_name: /content/drive/My Drive/dental_data/train/002.Incisors/84Layer 7.png, \t Teeth Prediction: Incisors\n",
            "image_file_name: /content/drive/My Drive/dental_data/train/002.Incisors/75Layer 8.png, \t Teeth Prediction: Incisors\n",
            "image_file_name: /content/drive/My Drive/dental_data/train/002.Incisors/95Layer 5.png, \t Teeth Prediction: Incisors\n",
            "image_file_name: /content/drive/My Drive/dental_data/train/002.Incisors/50Layer 6.png, \t Teeth Prediction: Incisors\n",
            "image_file_name: /content/drive/My Drive/dental_data/train/002.Incisors/89Layer 4.png, \t Teeth Prediction: Premolars\n",
            "image_file_name: /content/drive/My Drive/dental_data/train/002.Incisors/41Layer 4.png, \t Teeth Prediction: Canines\n",
            "image_file_name: /content/drive/My Drive/dental_data/train/002.Incisors/37Layer 3.png, \t Teeth Prediction: Incisors\n",
            "image_file_name: /content/drive/My Drive/dental_data/train/002.Incisors/76Layer 4.png, \t Teeth Prediction: Incisors\n",
            "image_file_name: /content/drive/My Drive/dental_data/train/002.Incisors/73Layer 1.png, \t Teeth Prediction: Premolars\n",
            "image_file_name: /content/drive/My Drive/dental_data/train/002.Incisors/44Layer 1.png, \t Teeth Prediction: Incisors\n",
            "image_file_name: /content/drive/My Drive/dental_data/train/002.Incisors/98Layer 6.png, \t Teeth Prediction: Incisors\n",
            "image_file_name: /content/drive/My Drive/dental_data/train/002.Incisors/62Layer 3.png, \t Teeth Prediction: Molars\n",
            "image_file_name: /content/drive/My Drive/dental_data/train/002.Incisors/55Layer 3.png, \t Teeth Prediction: Incisors\n",
            "image_file_name: /content/drive/My Drive/dental_data/train/002.Incisors/101Layer 5.png, \t Teeth Prediction: Incisors\n",
            "image_file_name: /content/drive/My Drive/dental_data/train/002.Incisors/110Layer 1 2.png, \t Teeth Prediction: Incisors\n",
            "image_file_name: /content/drive/My Drive/dental_data/train/002.Incisors/81Layer 2.png, \t Teeth Prediction: Incisors\n",
            "image_file_name: /content/drive/My Drive/dental_data/train/002.Incisors/101Layer 4.png, \t Teeth Prediction: Incisors\n",
            "image_file_name: /content/drive/My Drive/dental_data/train/002.Incisors/62Layer 2.png, \t Teeth Prediction: Incisors\n",
            "image_file_name: /content/drive/My Drive/dental_data/train/002.Incisors/81Layer 3.png, \t Teeth Prediction: Incisors\n",
            "image_file_name: /content/drive/My Drive/dental_data/train/002.Incisors/78Layer 8.png, \t Teeth Prediction: Incisors\n",
            "image_file_name: /content/drive/My Drive/dental_data/train/002.Incisors/110Layer 6.png, \t Teeth Prediction: Incisors\n",
            "image_file_name: /content/drive/My Drive/dental_data/train/002.Incisors/90Layer 1.png, \t Teeth Prediction: Incisors\n",
            "image_file_name: /content/drive/My Drive/dental_data/train/002.Incisors/55Layer 2.png, \t Teeth Prediction: Incisors\n",
            "image_file_name: /content/drive/My Drive/dental_data/train/002.Incisors/98Layer 7.png, \t Teeth Prediction: Premolars\n",
            "image_file_name: /content/drive/My Drive/dental_data/train/002.Incisors/76Layer 5.png, \t Teeth Prediction: Incisors\n",
            "image_file_name: /content/drive/My Drive/dental_data/train/002.Incisors/104Layer 1.png, \t Teeth Prediction: Molars\n",
            "image_file_name: /content/drive/My Drive/dental_data/train/002.Incisors/89Layer 5.png, \t Teeth Prediction: Incisors\n",
            "image_file_name: /content/drive/My Drive/dental_data/train/002.Incisors/41Layer 5.png, \t Teeth Prediction: Incisors\n",
            "image_file_name: /content/drive/My Drive/dental_data/train/002.Incisors/37Layer 2.png, \t Teeth Prediction: Incisors\n",
            "image_file_name: /content/drive/My Drive/dental_data/train/002.Incisors/49Layer 3.png, \t Teeth Prediction: Incisors\n",
            "image_file_name: /content/drive/My Drive/dental_data/train/002.Incisors/95Layer 4.png, \t Teeth Prediction: Incisors\n",
            "image_file_name: /content/drive/My Drive/dental_data/train/002.Incisors/87Layer 8.png, \t Teeth Prediction: Incisors\n",
            "image_file_name: /content/drive/My Drive/dental_data/train/002.Incisors/84Layer 6.png, \t Teeth Prediction: Incisors\n",
            "image_file_name: /content/drive/My Drive/dental_data/train/002.Incisors/58Layer 1.png, \t Teeth Prediction: Incisors\n",
            "image_file_name: /content/drive/My Drive/dental_data/train/002.Incisors/49Layer 7.png, \t Teeth Prediction: Incisors\n"
          ],
          "name": "stdout"
        },
        {
          "output_type": "error",
          "ename": "KeyboardInterrupt",
          "evalue": "ignored",
          "traceback": [
            "\u001b[0;31m---------------------------------------------------------------------------\u001b[0m",
            "\u001b[0;31mKeyboardInterrupt\u001b[0m                         Traceback (most recent call last)",
            "\u001b[0;32m<ipython-input-110-bc37fb254ea9>\u001b[0m in \u001b[0;36m<module>\u001b[0;34m()\u001b[0m\n\u001b[1;32m      1\u001b[0m \u001b[0;32mfor\u001b[0m \u001b[0mimg_file\u001b[0m \u001b[0;32min\u001b[0m \u001b[0mos\u001b[0m\u001b[0;34m.\u001b[0m\u001b[0mlistdir\u001b[0m\u001b[0;34m(\u001b[0m\u001b[0;34m'/content/drive/My Drive/dental_data/train/002.Incisors'\u001b[0m\u001b[0;34m)\u001b[0m\u001b[0;34m:\u001b[0m\u001b[0;34m\u001b[0m\u001b[0;34m\u001b[0m\u001b[0m\n\u001b[1;32m      2\u001b[0m     \u001b[0mimg_path\u001b[0m \u001b[0;34m=\u001b[0m \u001b[0mos\u001b[0m\u001b[0;34m.\u001b[0m\u001b[0mpath\u001b[0m\u001b[0;34m.\u001b[0m\u001b[0mjoin\u001b[0m\u001b[0;34m(\u001b[0m\u001b[0;34m'/content/drive/My Drive/dental_data/train/002.Incisors'\u001b[0m\u001b[0;34m,\u001b[0m \u001b[0mimg_file\u001b[0m\u001b[0;34m)\u001b[0m\u001b[0;34m\u001b[0m\u001b[0;34m\u001b[0m\u001b[0m\n\u001b[0;32m----> 3\u001b[0;31m     \u001b[0mpredition\u001b[0m \u001b[0;34m=\u001b[0m \u001b[0mpredict_teeth_transfer\u001b[0m\u001b[0;34m(\u001b[0m\u001b[0mmodel_transfer\u001b[0m\u001b[0;34m,\u001b[0m \u001b[0mclass_names\u001b[0m\u001b[0;34m,\u001b[0m \u001b[0mimg_path\u001b[0m\u001b[0;34m)\u001b[0m\u001b[0;34m\u001b[0m\u001b[0;34m\u001b[0m\u001b[0m\n\u001b[0m\u001b[1;32m      4\u001b[0m     \u001b[0mprint\u001b[0m\u001b[0;34m(\u001b[0m\u001b[0;34m\"image_file_name: {0}, \\t Teeth Prediction: {1}\"\u001b[0m\u001b[0;34m.\u001b[0m\u001b[0mformat\u001b[0m\u001b[0;34m(\u001b[0m\u001b[0mimg_path\u001b[0m\u001b[0;34m,\u001b[0m \u001b[0mpredition\u001b[0m\u001b[0;34m)\u001b[0m\u001b[0;34m)\u001b[0m\u001b[0;34m\u001b[0m\u001b[0;34m\u001b[0m\u001b[0m\n",
            "\u001b[0;32m<ipython-input-109-e7221662964f>\u001b[0m in \u001b[0;36mpredict_teeth_transfer\u001b[0;34m(model, class_names, img_path)\u001b[0m\n\u001b[1;32m      5\u001b[0m     \u001b[0mmodel\u001b[0m \u001b[0;34m=\u001b[0m \u001b[0mmodel\u001b[0m\u001b[0;34m.\u001b[0m\u001b[0mcpu\u001b[0m\u001b[0;34m(\u001b[0m\u001b[0;34m)\u001b[0m\u001b[0;34m\u001b[0m\u001b[0;34m\u001b[0m\u001b[0m\n\u001b[1;32m      6\u001b[0m     \u001b[0mmodel\u001b[0m\u001b[0;34m.\u001b[0m\u001b[0meval\u001b[0m\u001b[0;34m(\u001b[0m\u001b[0;34m)\u001b[0m\u001b[0;34m\u001b[0m\u001b[0;34m\u001b[0m\u001b[0m\n\u001b[0;32m----> 7\u001b[0;31m     \u001b[0midx\u001b[0m \u001b[0;34m=\u001b[0m \u001b[0mtorch\u001b[0m\u001b[0;34m.\u001b[0m\u001b[0margmax\u001b[0m\u001b[0;34m(\u001b[0m\u001b[0mmodel\u001b[0m\u001b[0;34m(\u001b[0m\u001b[0mimg\u001b[0m\u001b[0;34m)\u001b[0m\u001b[0;34m)\u001b[0m\u001b[0;34m\u001b[0m\u001b[0;34m\u001b[0m\u001b[0m\n\u001b[0m\u001b[1;32m      8\u001b[0m     \u001b[0;32mreturn\u001b[0m \u001b[0mclass_names\u001b[0m\u001b[0;34m[\u001b[0m\u001b[0midx\u001b[0m\u001b[0;34m]\u001b[0m\u001b[0;34m\u001b[0m\u001b[0;34m\u001b[0m\u001b[0m\n",
            "\u001b[0;32m/usr/local/lib/python3.6/dist-packages/torch/nn/modules/module.py\u001b[0m in \u001b[0;36m__call__\u001b[0;34m(self, *input, **kwargs)\u001b[0m\n\u001b[1;32m    487\u001b[0m             \u001b[0mresult\u001b[0m \u001b[0;34m=\u001b[0m \u001b[0mself\u001b[0m\u001b[0;34m.\u001b[0m\u001b[0m_slow_forward\u001b[0m\u001b[0;34m(\u001b[0m\u001b[0;34m*\u001b[0m\u001b[0minput\u001b[0m\u001b[0;34m,\u001b[0m \u001b[0;34m**\u001b[0m\u001b[0mkwargs\u001b[0m\u001b[0;34m)\u001b[0m\u001b[0;34m\u001b[0m\u001b[0;34m\u001b[0m\u001b[0m\n\u001b[1;32m    488\u001b[0m         \u001b[0;32melse\u001b[0m\u001b[0;34m:\u001b[0m\u001b[0;34m\u001b[0m\u001b[0;34m\u001b[0m\u001b[0m\n\u001b[0;32m--> 489\u001b[0;31m             \u001b[0mresult\u001b[0m \u001b[0;34m=\u001b[0m \u001b[0mself\u001b[0m\u001b[0;34m.\u001b[0m\u001b[0mforward\u001b[0m\u001b[0;34m(\u001b[0m\u001b[0;34m*\u001b[0m\u001b[0minput\u001b[0m\u001b[0;34m,\u001b[0m \u001b[0;34m**\u001b[0m\u001b[0mkwargs\u001b[0m\u001b[0;34m)\u001b[0m\u001b[0;34m\u001b[0m\u001b[0;34m\u001b[0m\u001b[0m\n\u001b[0m\u001b[1;32m    490\u001b[0m         \u001b[0;32mfor\u001b[0m \u001b[0mhook\u001b[0m \u001b[0;32min\u001b[0m \u001b[0mself\u001b[0m\u001b[0;34m.\u001b[0m\u001b[0m_forward_hooks\u001b[0m\u001b[0;34m.\u001b[0m\u001b[0mvalues\u001b[0m\u001b[0;34m(\u001b[0m\u001b[0;34m)\u001b[0m\u001b[0;34m:\u001b[0m\u001b[0;34m\u001b[0m\u001b[0;34m\u001b[0m\u001b[0m\n\u001b[1;32m    491\u001b[0m             \u001b[0mhook_result\u001b[0m \u001b[0;34m=\u001b[0m \u001b[0mhook\u001b[0m\u001b[0;34m(\u001b[0m\u001b[0mself\u001b[0m\u001b[0;34m,\u001b[0m \u001b[0minput\u001b[0m\u001b[0;34m,\u001b[0m \u001b[0mresult\u001b[0m\u001b[0;34m)\u001b[0m\u001b[0;34m\u001b[0m\u001b[0;34m\u001b[0m\u001b[0m\n",
            "\u001b[0;32m/usr/local/lib/python3.6/dist-packages/torchvision/models/resnet.py\u001b[0m in \u001b[0;36mforward\u001b[0;34m(self, x)\u001b[0m\n\u001b[1;32m    155\u001b[0m         \u001b[0mx\u001b[0m \u001b[0;34m=\u001b[0m \u001b[0mself\u001b[0m\u001b[0;34m.\u001b[0m\u001b[0mlayer1\u001b[0m\u001b[0;34m(\u001b[0m\u001b[0mx\u001b[0m\u001b[0;34m)\u001b[0m\u001b[0;34m\u001b[0m\u001b[0;34m\u001b[0m\u001b[0m\n\u001b[1;32m    156\u001b[0m         \u001b[0mx\u001b[0m \u001b[0;34m=\u001b[0m \u001b[0mself\u001b[0m\u001b[0;34m.\u001b[0m\u001b[0mlayer2\u001b[0m\u001b[0;34m(\u001b[0m\u001b[0mx\u001b[0m\u001b[0;34m)\u001b[0m\u001b[0;34m\u001b[0m\u001b[0;34m\u001b[0m\u001b[0m\n\u001b[0;32m--> 157\u001b[0;31m         \u001b[0mx\u001b[0m \u001b[0;34m=\u001b[0m \u001b[0mself\u001b[0m\u001b[0;34m.\u001b[0m\u001b[0mlayer3\u001b[0m\u001b[0;34m(\u001b[0m\u001b[0mx\u001b[0m\u001b[0;34m)\u001b[0m\u001b[0;34m\u001b[0m\u001b[0;34m\u001b[0m\u001b[0m\n\u001b[0m\u001b[1;32m    158\u001b[0m         \u001b[0mx\u001b[0m \u001b[0;34m=\u001b[0m \u001b[0mself\u001b[0m\u001b[0;34m.\u001b[0m\u001b[0mlayer4\u001b[0m\u001b[0;34m(\u001b[0m\u001b[0mx\u001b[0m\u001b[0;34m)\u001b[0m\u001b[0;34m\u001b[0m\u001b[0;34m\u001b[0m\u001b[0m\n\u001b[1;32m    159\u001b[0m \u001b[0;34m\u001b[0m\u001b[0m\n",
            "\u001b[0;32m/usr/local/lib/python3.6/dist-packages/torch/nn/modules/module.py\u001b[0m in \u001b[0;36m__call__\u001b[0;34m(self, *input, **kwargs)\u001b[0m\n\u001b[1;32m    487\u001b[0m             \u001b[0mresult\u001b[0m \u001b[0;34m=\u001b[0m \u001b[0mself\u001b[0m\u001b[0;34m.\u001b[0m\u001b[0m_slow_forward\u001b[0m\u001b[0;34m(\u001b[0m\u001b[0;34m*\u001b[0m\u001b[0minput\u001b[0m\u001b[0;34m,\u001b[0m \u001b[0;34m**\u001b[0m\u001b[0mkwargs\u001b[0m\u001b[0;34m)\u001b[0m\u001b[0;34m\u001b[0m\u001b[0;34m\u001b[0m\u001b[0m\n\u001b[1;32m    488\u001b[0m         \u001b[0;32melse\u001b[0m\u001b[0;34m:\u001b[0m\u001b[0;34m\u001b[0m\u001b[0;34m\u001b[0m\u001b[0m\n\u001b[0;32m--> 489\u001b[0;31m             \u001b[0mresult\u001b[0m \u001b[0;34m=\u001b[0m \u001b[0mself\u001b[0m\u001b[0;34m.\u001b[0m\u001b[0mforward\u001b[0m\u001b[0;34m(\u001b[0m\u001b[0;34m*\u001b[0m\u001b[0minput\u001b[0m\u001b[0;34m,\u001b[0m \u001b[0;34m**\u001b[0m\u001b[0mkwargs\u001b[0m\u001b[0;34m)\u001b[0m\u001b[0;34m\u001b[0m\u001b[0;34m\u001b[0m\u001b[0m\n\u001b[0m\u001b[1;32m    490\u001b[0m         \u001b[0;32mfor\u001b[0m \u001b[0mhook\u001b[0m \u001b[0;32min\u001b[0m \u001b[0mself\u001b[0m\u001b[0;34m.\u001b[0m\u001b[0m_forward_hooks\u001b[0m\u001b[0;34m.\u001b[0m\u001b[0mvalues\u001b[0m\u001b[0;34m(\u001b[0m\u001b[0;34m)\u001b[0m\u001b[0;34m:\u001b[0m\u001b[0;34m\u001b[0m\u001b[0;34m\u001b[0m\u001b[0m\n\u001b[1;32m    491\u001b[0m             \u001b[0mhook_result\u001b[0m \u001b[0;34m=\u001b[0m \u001b[0mhook\u001b[0m\u001b[0;34m(\u001b[0m\u001b[0mself\u001b[0m\u001b[0;34m,\u001b[0m \u001b[0minput\u001b[0m\u001b[0;34m,\u001b[0m \u001b[0mresult\u001b[0m\u001b[0;34m)\u001b[0m\u001b[0;34m\u001b[0m\u001b[0;34m\u001b[0m\u001b[0m\n",
            "\u001b[0;32m/usr/local/lib/python3.6/dist-packages/torch/nn/modules/container.py\u001b[0m in \u001b[0;36mforward\u001b[0;34m(self, input)\u001b[0m\n\u001b[1;32m     90\u001b[0m     \u001b[0;32mdef\u001b[0m \u001b[0mforward\u001b[0m\u001b[0;34m(\u001b[0m\u001b[0mself\u001b[0m\u001b[0;34m,\u001b[0m \u001b[0minput\u001b[0m\u001b[0;34m)\u001b[0m\u001b[0;34m:\u001b[0m\u001b[0;34m\u001b[0m\u001b[0;34m\u001b[0m\u001b[0m\n\u001b[1;32m     91\u001b[0m         \u001b[0;32mfor\u001b[0m \u001b[0mmodule\u001b[0m \u001b[0;32min\u001b[0m \u001b[0mself\u001b[0m\u001b[0;34m.\u001b[0m\u001b[0m_modules\u001b[0m\u001b[0;34m.\u001b[0m\u001b[0mvalues\u001b[0m\u001b[0;34m(\u001b[0m\u001b[0;34m)\u001b[0m\u001b[0;34m:\u001b[0m\u001b[0;34m\u001b[0m\u001b[0;34m\u001b[0m\u001b[0m\n\u001b[0;32m---> 92\u001b[0;31m             \u001b[0minput\u001b[0m \u001b[0;34m=\u001b[0m \u001b[0mmodule\u001b[0m\u001b[0;34m(\u001b[0m\u001b[0minput\u001b[0m\u001b[0;34m)\u001b[0m\u001b[0;34m\u001b[0m\u001b[0;34m\u001b[0m\u001b[0m\n\u001b[0m\u001b[1;32m     93\u001b[0m         \u001b[0;32mreturn\u001b[0m \u001b[0minput\u001b[0m\u001b[0;34m\u001b[0m\u001b[0;34m\u001b[0m\u001b[0m\n\u001b[1;32m     94\u001b[0m \u001b[0;34m\u001b[0m\u001b[0m\n",
            "\u001b[0;32m/usr/local/lib/python3.6/dist-packages/torch/nn/modules/module.py\u001b[0m in \u001b[0;36m__call__\u001b[0;34m(self, *input, **kwargs)\u001b[0m\n\u001b[1;32m    487\u001b[0m             \u001b[0mresult\u001b[0m \u001b[0;34m=\u001b[0m \u001b[0mself\u001b[0m\u001b[0;34m.\u001b[0m\u001b[0m_slow_forward\u001b[0m\u001b[0;34m(\u001b[0m\u001b[0;34m*\u001b[0m\u001b[0minput\u001b[0m\u001b[0;34m,\u001b[0m \u001b[0;34m**\u001b[0m\u001b[0mkwargs\u001b[0m\u001b[0;34m)\u001b[0m\u001b[0;34m\u001b[0m\u001b[0;34m\u001b[0m\u001b[0m\n\u001b[1;32m    488\u001b[0m         \u001b[0;32melse\u001b[0m\u001b[0;34m:\u001b[0m\u001b[0;34m\u001b[0m\u001b[0;34m\u001b[0m\u001b[0m\n\u001b[0;32m--> 489\u001b[0;31m             \u001b[0mresult\u001b[0m \u001b[0;34m=\u001b[0m \u001b[0mself\u001b[0m\u001b[0;34m.\u001b[0m\u001b[0mforward\u001b[0m\u001b[0;34m(\u001b[0m\u001b[0;34m*\u001b[0m\u001b[0minput\u001b[0m\u001b[0;34m,\u001b[0m \u001b[0;34m**\u001b[0m\u001b[0mkwargs\u001b[0m\u001b[0;34m)\u001b[0m\u001b[0;34m\u001b[0m\u001b[0;34m\u001b[0m\u001b[0m\n\u001b[0m\u001b[1;32m    490\u001b[0m         \u001b[0;32mfor\u001b[0m \u001b[0mhook\u001b[0m \u001b[0;32min\u001b[0m \u001b[0mself\u001b[0m\u001b[0;34m.\u001b[0m\u001b[0m_forward_hooks\u001b[0m\u001b[0;34m.\u001b[0m\u001b[0mvalues\u001b[0m\u001b[0;34m(\u001b[0m\u001b[0;34m)\u001b[0m\u001b[0;34m:\u001b[0m\u001b[0;34m\u001b[0m\u001b[0;34m\u001b[0m\u001b[0m\n\u001b[1;32m    491\u001b[0m             \u001b[0mhook_result\u001b[0m \u001b[0;34m=\u001b[0m \u001b[0mhook\u001b[0m\u001b[0;34m(\u001b[0m\u001b[0mself\u001b[0m\u001b[0;34m,\u001b[0m \u001b[0minput\u001b[0m\u001b[0;34m,\u001b[0m \u001b[0mresult\u001b[0m\u001b[0;34m)\u001b[0m\u001b[0;34m\u001b[0m\u001b[0;34m\u001b[0m\u001b[0m\n",
            "\u001b[0;32m/usr/local/lib/python3.6/dist-packages/torchvision/models/resnet.py\u001b[0m in \u001b[0;36mforward\u001b[0;34m(self, x)\u001b[0m\n\u001b[1;32m     77\u001b[0m         \u001b[0midentity\u001b[0m \u001b[0;34m=\u001b[0m \u001b[0mx\u001b[0m\u001b[0;34m\u001b[0m\u001b[0;34m\u001b[0m\u001b[0m\n\u001b[1;32m     78\u001b[0m \u001b[0;34m\u001b[0m\u001b[0m\n\u001b[0;32m---> 79\u001b[0;31m         \u001b[0mout\u001b[0m \u001b[0;34m=\u001b[0m \u001b[0mself\u001b[0m\u001b[0;34m.\u001b[0m\u001b[0mconv1\u001b[0m\u001b[0;34m(\u001b[0m\u001b[0mx\u001b[0m\u001b[0;34m)\u001b[0m\u001b[0;34m\u001b[0m\u001b[0;34m\u001b[0m\u001b[0m\n\u001b[0m\u001b[1;32m     80\u001b[0m         \u001b[0mout\u001b[0m \u001b[0;34m=\u001b[0m \u001b[0mself\u001b[0m\u001b[0;34m.\u001b[0m\u001b[0mbn1\u001b[0m\u001b[0;34m(\u001b[0m\u001b[0mout\u001b[0m\u001b[0;34m)\u001b[0m\u001b[0;34m\u001b[0m\u001b[0;34m\u001b[0m\u001b[0m\n\u001b[1;32m     81\u001b[0m         \u001b[0mout\u001b[0m \u001b[0;34m=\u001b[0m \u001b[0mself\u001b[0m\u001b[0;34m.\u001b[0m\u001b[0mrelu\u001b[0m\u001b[0;34m(\u001b[0m\u001b[0mout\u001b[0m\u001b[0;34m)\u001b[0m\u001b[0;34m\u001b[0m\u001b[0;34m\u001b[0m\u001b[0m\n",
            "\u001b[0;32m/usr/local/lib/python3.6/dist-packages/torch/nn/modules/module.py\u001b[0m in \u001b[0;36m__call__\u001b[0;34m(self, *input, **kwargs)\u001b[0m\n\u001b[1;32m    487\u001b[0m             \u001b[0mresult\u001b[0m \u001b[0;34m=\u001b[0m \u001b[0mself\u001b[0m\u001b[0;34m.\u001b[0m\u001b[0m_slow_forward\u001b[0m\u001b[0;34m(\u001b[0m\u001b[0;34m*\u001b[0m\u001b[0minput\u001b[0m\u001b[0;34m,\u001b[0m \u001b[0;34m**\u001b[0m\u001b[0mkwargs\u001b[0m\u001b[0;34m)\u001b[0m\u001b[0;34m\u001b[0m\u001b[0;34m\u001b[0m\u001b[0m\n\u001b[1;32m    488\u001b[0m         \u001b[0;32melse\u001b[0m\u001b[0;34m:\u001b[0m\u001b[0;34m\u001b[0m\u001b[0;34m\u001b[0m\u001b[0m\n\u001b[0;32m--> 489\u001b[0;31m             \u001b[0mresult\u001b[0m \u001b[0;34m=\u001b[0m \u001b[0mself\u001b[0m\u001b[0;34m.\u001b[0m\u001b[0mforward\u001b[0m\u001b[0;34m(\u001b[0m\u001b[0;34m*\u001b[0m\u001b[0minput\u001b[0m\u001b[0;34m,\u001b[0m \u001b[0;34m**\u001b[0m\u001b[0mkwargs\u001b[0m\u001b[0;34m)\u001b[0m\u001b[0;34m\u001b[0m\u001b[0;34m\u001b[0m\u001b[0m\n\u001b[0m\u001b[1;32m    490\u001b[0m         \u001b[0;32mfor\u001b[0m \u001b[0mhook\u001b[0m \u001b[0;32min\u001b[0m \u001b[0mself\u001b[0m\u001b[0;34m.\u001b[0m\u001b[0m_forward_hooks\u001b[0m\u001b[0;34m.\u001b[0m\u001b[0mvalues\u001b[0m\u001b[0;34m(\u001b[0m\u001b[0;34m)\u001b[0m\u001b[0;34m:\u001b[0m\u001b[0;34m\u001b[0m\u001b[0;34m\u001b[0m\u001b[0m\n\u001b[1;32m    491\u001b[0m             \u001b[0mhook_result\u001b[0m \u001b[0;34m=\u001b[0m \u001b[0mhook\u001b[0m\u001b[0;34m(\u001b[0m\u001b[0mself\u001b[0m\u001b[0;34m,\u001b[0m \u001b[0minput\u001b[0m\u001b[0;34m,\u001b[0m \u001b[0mresult\u001b[0m\u001b[0;34m)\u001b[0m\u001b[0;34m\u001b[0m\u001b[0;34m\u001b[0m\u001b[0m\n",
            "\u001b[0;32m/usr/local/lib/python3.6/dist-packages/torch/nn/modules/conv.py\u001b[0m in \u001b[0;36mforward\u001b[0;34m(self, input)\u001b[0m\n\u001b[1;32m    318\u001b[0m     \u001b[0;32mdef\u001b[0m \u001b[0mforward\u001b[0m\u001b[0;34m(\u001b[0m\u001b[0mself\u001b[0m\u001b[0;34m,\u001b[0m \u001b[0minput\u001b[0m\u001b[0;34m)\u001b[0m\u001b[0;34m:\u001b[0m\u001b[0;34m\u001b[0m\u001b[0;34m\u001b[0m\u001b[0m\n\u001b[1;32m    319\u001b[0m         return F.conv2d(input, self.weight, self.bias, self.stride,\n\u001b[0;32m--> 320\u001b[0;31m                         self.padding, self.dilation, self.groups)\n\u001b[0m\u001b[1;32m    321\u001b[0m \u001b[0;34m\u001b[0m\u001b[0m\n\u001b[1;32m    322\u001b[0m \u001b[0;34m\u001b[0m\u001b[0m\n",
            "\u001b[0;31mKeyboardInterrupt\u001b[0m: "
          ]
        }
      ]
    },
    {
      "metadata": {
        "id": "m4oXIV_fzTGF",
        "colab_type": "text"
      },
      "cell_type": "markdown",
      "source": [
        "Testing on Canines"
      ]
    },
    {
      "metadata": {
        "id": "k03aCgYr4AYm",
        "colab_type": "code",
        "colab": {
          "base_uri": "https://localhost:8080/",
          "height": 1303
        },
        "outputId": "a2b3e47a-80d3-47da-a656-5a96ab4ab719"
      },
      "cell_type": "code",
      "source": [
        "for img_file in os.listdir('/content/drive/My Drive/dental_data/train/001.Canines'):\n",
        "    img_path = os.path.join('/content/drive/My Drive/dental_data/train/001.Canines', img_file)\n",
        "    predition = predict_teeth_transfer(model_transfer, class_names, img_path)\n",
        "    print(\"image_file_name: {0}, \\t Teeth Prediction: {1}\".format(img_path, predition))"
      ],
      "execution_count": 111,
      "outputs": [
        {
          "output_type": "stream",
          "text": [
            "image_file_name: /content/drive/My Drive/dental_data/train/001.Canines/58Layer 3.png, \t Teeth Prediction: Incisors\n",
            "image_file_name: /content/drive/My Drive/dental_data/train/001.Canines/49Layer 1.png, \t Teeth Prediction: Incisors\n",
            "image_file_name: /content/drive/My Drive/dental_data/train/001.Canines/84Layer 4.png, \t Teeth Prediction: Molars\n",
            "image_file_name: /content/drive/My Drive/dental_data/train/001.Canines/104Layer 3.png, \t Teeth Prediction: Incisors\n",
            "image_file_name: /content/drive/My Drive/dental_data/train/001.Canines/73Layer 2.png, \t Teeth Prediction: Molars\n",
            "image_file_name: /content/drive/My Drive/dental_data/train/001.Canines/81Layer 1.png, \t Teeth Prediction: Molars\n",
            "image_file_name: /content/drive/My Drive/dental_data/train/001.Canines/110Layer 4.png, \t Teeth Prediction: Incisors\n",
            "image_file_name: /content/drive/My Drive/dental_data/train/001.Canines/90Layer 3.png, \t Teeth Prediction: Incisors\n",
            "image_file_name: /content/drive/My Drive/dental_data/train/001.Canines/90Layer 2.png, \t Teeth Prediction: Premolars\n",
            "image_file_name: /content/drive/My Drive/dental_data/train/001.Canines/73Layer 3.png, \t Teeth Prediction: Premolars\n",
            "image_file_name: /content/drive/My Drive/dental_data/train/001.Canines/62Layer 1.png, \t Teeth Prediction: Canines\n",
            "image_file_name: /content/drive/My Drive/dental_data/train/001.Canines/55Layer 1.png, \t Teeth Prediction: Incisors\n",
            "image_file_name: /content/drive/My Drive/dental_data/train/001.Canines/98Layer 4.png, \t Teeth Prediction: Molars\n",
            "image_file_name: /content/drive/My Drive/dental_data/train/001.Canines/37Layer 1.png, \t Teeth Prediction: Incisors\n",
            "image_file_name: /content/drive/My Drive/dental_data/train/001.Canines/50Layer 4.png, \t Teeth Prediction: Incisors\n",
            "image_file_name: /content/drive/My Drive/dental_data/train/001.Canines/104Layer 2.png, \t Teeth Prediction: Molars\n",
            "image_file_name: /content/drive/My Drive/dental_data/train/001.Canines/58Layer 2.png, \t Teeth Prediction: Incisors\n",
            "image_file_name: /content/drive/My Drive/dental_data/train/001.Canines/49Layer 2.png, \t Teeth Prediction: Incisors\n",
            "image_file_name: /content/drive/My Drive/dental_data/train/001.Canines/41Layer 4.png, \t Teeth Prediction: Incisors\n",
            "image_file_name: /content/drive/My Drive/dental_data/train/001.Canines/76Layer 4.png, \t Teeth Prediction: Incisors\n",
            "image_file_name: /content/drive/My Drive/dental_data/train/001.Canines/89Layer 4.png, \t Teeth Prediction: Incisors\n",
            "image_file_name: /content/drive/My Drive/dental_data/train/001.Canines/37Layer 3.png, \t Teeth Prediction: Incisors\n",
            "image_file_name: /content/drive/My Drive/dental_data/train/001.Canines/55Layer 3.png, \t Teeth Prediction: Incisors\n",
            "image_file_name: /content/drive/My Drive/dental_data/train/001.Canines/62Layer 3.png, \t Teeth Prediction: Molars\n",
            "image_file_name: /content/drive/My Drive/dental_data/train/001.Canines/73Layer 1.png, \t Teeth Prediction: Molars\n",
            "image_file_name: /content/drive/My Drive/dental_data/train/001.Canines/81Layer 2.png, \t Teeth Prediction: Molars\n",
            "image_file_name: /content/drive/My Drive/dental_data/train/001.Canines/110Layer 1 2.png, \t Teeth Prediction: Incisors\n",
            "image_file_name: /content/drive/My Drive/dental_data/train/001.Canines/101Layer 4.png, \t Teeth Prediction: Incisors\n",
            "image_file_name: /content/drive/My Drive/dental_data/train/001.Canines/90Layer 1.png, \t Teeth Prediction: Molars\n",
            "image_file_name: /content/drive/My Drive/dental_data/train/001.Canines/81Layer 3.png, \t Teeth Prediction: Incisors\n",
            "image_file_name: /content/drive/My Drive/dental_data/train/001.Canines/62Layer 2.png, \t Teeth Prediction: Incisors\n",
            "image_file_name: /content/drive/My Drive/dental_data/train/001.Canines/55Layer 2.png, \t Teeth Prediction: Incisors\n",
            "image_file_name: /content/drive/My Drive/dental_data/train/001.Canines/37Layer 2.png, \t Teeth Prediction: Incisors\n",
            "image_file_name: /content/drive/My Drive/dental_data/train/001.Canines/104Layer 1.png, \t Teeth Prediction: Molars\n",
            "image_file_name: /content/drive/My Drive/dental_data/train/001.Canines/95Layer 4.png, \t Teeth Prediction: Incisors\n",
            "image_file_name: /content/drive/My Drive/dental_data/train/001.Canines/49Layer 3.png, \t Teeth Prediction: Incisors\n",
            "image_file_name: /content/drive/My Drive/dental_data/train/001.Canines/58Layer 1.png, \t Teeth Prediction: Incisors\n",
            "image_file_name: /content/drive/My Drive/dental_data/train/001.Canines/84Layer 2.png, \t Teeth Prediction: Incisors\n",
            "image_file_name: /content/drive/My Drive/dental_data/train/001.Canines/76Layer 1.png, \t Teeth Prediction: Incisors\n",
            "image_file_name: /content/drive/My Drive/dental_data/train/001.Canines/50Layer 3.png, \t Teeth Prediction: Premolars\n",
            "image_file_name: /content/drive/My Drive/dental_data/train/001.Canines/41Layer 1.png, \t Teeth Prediction: Incisors\n",
            "image_file_name: /content/drive/My Drive/dental_data/train/001.Canines/89Layer 1.png, \t Teeth Prediction: Incisors\n",
            "image_file_name: /content/drive/My Drive/dental_data/train/001.Canines/98Layer 3.png, \t Teeth Prediction: Molars\n"
          ],
          "name": "stdout"
        },
        {
          "output_type": "error",
          "ename": "OSError",
          "evalue": "ignored",
          "traceback": [
            "\u001b[0;31m---------------------------------------------------------------------------\u001b[0m",
            "\u001b[0;31mOSError\u001b[0m                                   Traceback (most recent call last)",
            "\u001b[0;32m<ipython-input-111-f6ecab1e09d1>\u001b[0m in \u001b[0;36m<module>\u001b[0;34m()\u001b[0m\n\u001b[1;32m      1\u001b[0m \u001b[0;32mfor\u001b[0m \u001b[0mimg_file\u001b[0m \u001b[0;32min\u001b[0m \u001b[0mos\u001b[0m\u001b[0;34m.\u001b[0m\u001b[0mlistdir\u001b[0m\u001b[0;34m(\u001b[0m\u001b[0;34m'/content/drive/My Drive/dental_data/train/001.Canines'\u001b[0m\u001b[0;34m)\u001b[0m\u001b[0;34m:\u001b[0m\u001b[0;34m\u001b[0m\u001b[0;34m\u001b[0m\u001b[0m\n\u001b[1;32m      2\u001b[0m     \u001b[0mimg_path\u001b[0m \u001b[0;34m=\u001b[0m \u001b[0mos\u001b[0m\u001b[0;34m.\u001b[0m\u001b[0mpath\u001b[0m\u001b[0;34m.\u001b[0m\u001b[0mjoin\u001b[0m\u001b[0;34m(\u001b[0m\u001b[0;34m'/content/drive/My Drive/dental_data/train/001.Canines'\u001b[0m\u001b[0;34m,\u001b[0m \u001b[0mimg_file\u001b[0m\u001b[0;34m)\u001b[0m\u001b[0;34m\u001b[0m\u001b[0;34m\u001b[0m\u001b[0m\n\u001b[0;32m----> 3\u001b[0;31m     \u001b[0mpredition\u001b[0m \u001b[0;34m=\u001b[0m \u001b[0mpredict_teeth_transfer\u001b[0m\u001b[0;34m(\u001b[0m\u001b[0mmodel_transfer\u001b[0m\u001b[0;34m,\u001b[0m \u001b[0mclass_names\u001b[0m\u001b[0;34m,\u001b[0m \u001b[0mimg_path\u001b[0m\u001b[0;34m)\u001b[0m\u001b[0;34m\u001b[0m\u001b[0;34m\u001b[0m\u001b[0m\n\u001b[0m\u001b[1;32m      4\u001b[0m     \u001b[0mprint\u001b[0m\u001b[0;34m(\u001b[0m\u001b[0;34m\"image_file_name: {0}, \\t Teeth Prediction: {1}\"\u001b[0m\u001b[0;34m.\u001b[0m\u001b[0mformat\u001b[0m\u001b[0;34m(\u001b[0m\u001b[0mimg_path\u001b[0m\u001b[0;34m,\u001b[0m \u001b[0mpredition\u001b[0m\u001b[0;34m)\u001b[0m\u001b[0;34m)\u001b[0m\u001b[0;34m\u001b[0m\u001b[0;34m\u001b[0m\u001b[0m\n",
            "\u001b[0;32m<ipython-input-109-e7221662964f>\u001b[0m in \u001b[0;36mpredict_teeth_transfer\u001b[0;34m(model, class_names, img_path)\u001b[0m\n\u001b[1;32m      2\u001b[0m \u001b[0;32mdef\u001b[0m \u001b[0mpredict_teeth_transfer\u001b[0m\u001b[0;34m(\u001b[0m\u001b[0mmodel\u001b[0m\u001b[0;34m,\u001b[0m \u001b[0mclass_names\u001b[0m\u001b[0;34m,\u001b[0m \u001b[0mimg_path\u001b[0m\u001b[0;34m)\u001b[0m\u001b[0;34m:\u001b[0m\u001b[0;34m\u001b[0m\u001b[0;34m\u001b[0m\u001b[0m\n\u001b[1;32m      3\u001b[0m     \u001b[0;31m# load the image and return the predicted teeth\u001b[0m\u001b[0;34m\u001b[0m\u001b[0;34m\u001b[0m\u001b[0;34m\u001b[0m\u001b[0m\n\u001b[0;32m----> 4\u001b[0;31m     \u001b[0mimg\u001b[0m \u001b[0;34m=\u001b[0m \u001b[0mload_input_image\u001b[0m\u001b[0;34m(\u001b[0m\u001b[0mimg_path\u001b[0m\u001b[0;34m)\u001b[0m\u001b[0;34m\u001b[0m\u001b[0;34m\u001b[0m\u001b[0m\n\u001b[0m\u001b[1;32m      5\u001b[0m     \u001b[0mmodel\u001b[0m \u001b[0;34m=\u001b[0m \u001b[0mmodel\u001b[0m\u001b[0;34m.\u001b[0m\u001b[0mcpu\u001b[0m\u001b[0;34m(\u001b[0m\u001b[0;34m)\u001b[0m\u001b[0;34m\u001b[0m\u001b[0;34m\u001b[0m\u001b[0m\n\u001b[1;32m      6\u001b[0m     \u001b[0mmodel\u001b[0m\u001b[0;34m.\u001b[0m\u001b[0meval\u001b[0m\u001b[0;34m(\u001b[0m\u001b[0;34m)\u001b[0m\u001b[0;34m\u001b[0m\u001b[0;34m\u001b[0m\u001b[0m\n",
            "\u001b[0;32m<ipython-input-108-d38a33aaca70>\u001b[0m in \u001b[0;36mload_input_image\u001b[0;34m(img_path)\u001b[0m\n\u001b[1;32m      4\u001b[0m \u001b[0;34m\u001b[0m\u001b[0m\n\u001b[1;32m      5\u001b[0m \u001b[0;32mdef\u001b[0m \u001b[0mload_input_image\u001b[0m\u001b[0;34m(\u001b[0m\u001b[0mimg_path\u001b[0m\u001b[0;34m)\u001b[0m\u001b[0;34m:\u001b[0m\u001b[0;34m\u001b[0m\u001b[0;34m\u001b[0m\u001b[0m\n\u001b[0;32m----> 6\u001b[0;31m     \u001b[0mimage\u001b[0m \u001b[0;34m=\u001b[0m \u001b[0mImage\u001b[0m\u001b[0;34m.\u001b[0m\u001b[0mopen\u001b[0m\u001b[0;34m(\u001b[0m\u001b[0mimg_path\u001b[0m\u001b[0;34m)\u001b[0m\u001b[0;34m.\u001b[0m\u001b[0mconvert\u001b[0m\u001b[0;34m(\u001b[0m\u001b[0;34m'RGB'\u001b[0m\u001b[0;34m)\u001b[0m\u001b[0;34m\u001b[0m\u001b[0;34m\u001b[0m\u001b[0m\n\u001b[0m\u001b[1;32m      7\u001b[0m     prediction_transform = transforms.Compose([transforms.Resize(size=(224, 224)),\n\u001b[1;32m      8\u001b[0m                                      \u001b[0mtransforms\u001b[0m\u001b[0;34m.\u001b[0m\u001b[0mGrayscale\u001b[0m\u001b[0;34m(\u001b[0m\u001b[0mnum_output_channels\u001b[0m\u001b[0;34m=\u001b[0m\u001b[0;36m3\u001b[0m\u001b[0;34m)\u001b[0m\u001b[0;34m,\u001b[0m\u001b[0;34m\u001b[0m\u001b[0;34m\u001b[0m\u001b[0m\n",
            "\u001b[0;32m/usr/local/lib/python3.6/dist-packages/PIL/Image.py\u001b[0m in \u001b[0;36mopen\u001b[0;34m(fp, mode)\u001b[0m\n\u001b[1;32m   2450\u001b[0m         \u001b[0mfp\u001b[0m\u001b[0;34m.\u001b[0m\u001b[0mclose\u001b[0m\u001b[0;34m(\u001b[0m\u001b[0;34m)\u001b[0m\u001b[0;34m\u001b[0m\u001b[0;34m\u001b[0m\u001b[0m\n\u001b[1;32m   2451\u001b[0m     raise IOError(\"cannot identify image file %r\"\n\u001b[0;32m-> 2452\u001b[0;31m                   % (filename if filename else fp))\n\u001b[0m\u001b[1;32m   2453\u001b[0m \u001b[0;34m\u001b[0m\u001b[0m\n\u001b[1;32m   2454\u001b[0m \u001b[0;31m#\u001b[0m\u001b[0;34m\u001b[0m\u001b[0;34m\u001b[0m\u001b[0;34m\u001b[0m\u001b[0m\n",
            "\u001b[0;31mOSError\u001b[0m: cannot identify image file '/content/drive/My Drive/dental_data/train/001.Canines/.DS_Store'"
          ]
        }
      ]
    },
    {
      "metadata": {
        "id": "czouifqV336N",
        "colab_type": "text"
      },
      "cell_type": "markdown",
      "source": [
        "Testing on Premolars"
      ]
    },
    {
      "metadata": {
        "id": "ROMNu1tn4BBE",
        "colab_type": "code",
        "colab": {
          "base_uri": "https://localhost:8080/",
          "height": 2102
        },
        "outputId": "372f00fd-6746-496d-a30e-463a46edbcbc"
      },
      "cell_type": "code",
      "source": [
        "for img_file in os.listdir('/content/drive/My Drive/dental_data/train/004.Premolars'):\n",
        "    img_path = os.path.join('/content/drive/My Drive/dental_data/train/004.Premolars', img_file)\n",
        "    predition = predict_teeth_transfer(model_transfer, class_names, img_path)\n",
        "    print(\"image_file_name: {0}, \\t Teeth Prediction: {1}\".format(img_path, predition))"
      ],
      "execution_count": 112,
      "outputs": [
        {
          "output_type": "stream",
          "text": [
            "image_file_name: /content/drive/My Drive/dental_data/train/004.Premolars/38Layer 5.png, \t Teeth Prediction: Incisors\n",
            "image_file_name: /content/drive/My Drive/dental_data/train/004.Premolars/86Layer 2.png, \t Teeth Prediction: Incisors\n",
            "image_file_name: /content/drive/My Drive/dental_data/train/004.Premolars/43Layer 1.png, \t Teeth Prediction: Incisors\n",
            "image_file_name: /content/drive/My Drive/dental_data/train/004.Premolars/65Layer 3.png, \t Teeth Prediction: Molars\n",
            "image_file_name: /content/drive/My Drive/dental_data/train/004.Premolars/71Layer 4.png, \t Teeth Prediction: Molars\n",
            "image_file_name: /content/drive/My Drive/dental_data/train/004.Premolars/79Layer 2.png, \t Teeth Prediction: Molars\n",
            "image_file_name: /content/drive/My Drive/dental_data/train/004.Premolars/76Layer 10.png, \t Teeth Prediction: Premolars\n",
            "image_file_name: /content/drive/My Drive/dental_data/train/004.Premolars/74Layer 1.png, \t Teeth Prediction: Incisors\n",
            "image_file_name: /content/drive/My Drive/dental_data/train/004.Premolars/83Layer 7.png, \t Teeth Prediction: Molars\n",
            "image_file_name: /content/drive/My Drive/dental_data/train/004.Premolars/112Layer 2.png, \t Teeth Prediction: Canines\n",
            "image_file_name: /content/drive/My Drive/dental_data/train/004.Premolars/92Layer 5.png, \t Teeth Prediction: Molars\n",
            "image_file_name: /content/drive/My Drive/dental_data/train/004.Premolars/103Layer 2.png, \t Teeth Prediction: Incisors\n",
            "image_file_name: /content/drive/My Drive/dental_data/train/004.Premolars/83Layer 5.png, \t Teeth Prediction: Molars\n",
            "image_file_name: /content/drive/My Drive/dental_data/train/004.Premolars/71Layer 6.png, \t Teeth Prediction: Premolars\n",
            "image_file_name: /content/drive/My Drive/dental_data/train/004.Premolars/46Layer 6.png, \t Teeth Prediction: Molars\n",
            "image_file_name: /content/drive/My Drive/dental_data/train/004.Premolars/68Layer 2.png, \t Teeth Prediction: Incisors\n",
            "image_file_name: /content/drive/My Drive/dental_data/train/004.Premolars/74Layer 3.png, \t Teeth Prediction: Premolars\n",
            "image_file_name: /content/drive/My Drive/dental_data/train/004.Premolars/43Layer 3.png, \t Teeth Prediction: Incisors\n",
            "image_file_name: /content/drive/My Drive/dental_data/train/004.Premolars/65Layer 1.png, \t Teeth Prediction: Incisors\n",
            "image_file_name: /content/drive/My Drive/dental_data/train/004.Premolars/52Layer 1.png, \t Teeth Prediction: Premolars\n",
            "image_file_name: /content/drive/My Drive/dental_data/train/004.Premolars/97Layer 2.png, \t Teeth Prediction: Incisors\n",
            "image_file_name: /content/drive/My Drive/dental_data/train/004.Premolars/38Layer 7.png, \t Teeth Prediction: Canines\n",
            "image_file_name: /content/drive/My Drive/dental_data/train/004.Premolars/38Layer 6.png, \t Teeth Prediction: Premolars\n",
            "image_file_name: /content/drive/My Drive/dental_data/train/004.Premolars/74Layer 2.png, \t Teeth Prediction: Premolars\n",
            "image_file_name: /content/drive/My Drive/dental_data/train/004.Premolars/97Layer 3.png, \t Teeth Prediction: Premolars\n",
            "image_file_name: /content/drive/My Drive/dental_data/train/004.Premolars/86Layer 1.png, \t Teeth Prediction: Molars\n",
            "image_file_name: /content/drive/My Drive/dental_data/train/004.Premolars/68layer 3.png, \t Teeth Prediction: Molars\n",
            "image_file_name: /content/drive/My Drive/dental_data/train/004.Premolars/43Layer 2.png, \t Teeth Prediction: Incisors\n",
            "image_file_name: /content/drive/My Drive/dental_data/train/004.Premolars/79Layer 1.png, \t Teeth Prediction: Incisors\n",
            "image_file_name: /content/drive/My Drive/dental_data/train/004.Premolars/46Layer 7.png, \t Teeth Prediction: Incisors\n",
            "image_file_name: /content/drive/My Drive/dental_data/train/004.Premolars/71Layer 7.png, \t Teeth Prediction: Premolars\n",
            "image_file_name: /content/drive/My Drive/dental_data/train/004.Premolars/112Layer 1.png, \t Teeth Prediction: Incisors\n",
            "image_file_name: /content/drive/My Drive/dental_data/train/004.Premolars/83Layer 4.png, \t Teeth Prediction: Incisors\n",
            "image_file_name: /content/drive/My Drive/dental_data/train/004.Premolars/103Layer 3.png, \t Teeth Prediction: Incisors\n",
            "image_file_name: /content/drive/My Drive/dental_data/train/004.Premolars/99Layer 3.png, \t Teeth Prediction: Molars\n",
            "image_file_name: /content/drive/My Drive/dental_data/train/004.Premolars/91Layer 5.png, \t Teeth Prediction: Molars\n",
            "image_file_name: /content/drive/My Drive/dental_data/train/004.Premolars/63Layer 6.png, \t Teeth Prediction: Molars\n",
            "image_file_name: /content/drive/My Drive/dental_data/train/004.Premolars/88Layer 1.png, \t Teeth Prediction: Molars\n",
            "image_file_name: /content/drive/My Drive/dental_data/train/004.Premolars/72Layer 4.png, \t Teeth Prediction: Molars\n",
            "image_file_name: /content/drive/My Drive/dental_data/train/004.Premolars/111Layer 2.png, \t Teeth Prediction: Incisors\n",
            "image_file_name: /content/drive/My Drive/dental_data/train/004.Premolars/80Layer 7.png, \t Teeth Prediction: Molars\n",
            "image_file_name: /content/drive/My Drive/dental_data/train/004.Premolars/85Layer 2.png, \t Teeth Prediction: Molars\n",
            "image_file_name: /content/drive/My Drive/dental_data/train/004.Premolars/77Layer 1.png, \t Teeth Prediction: Incisors\n",
            "image_file_name: /content/drive/My Drive/dental_data/train/004.Premolars/105Layer 5.png, \t Teeth Prediction: Incisors\n",
            "image_file_name: /content/drive/My Drive/dental_data/train/004.Premolars/51Layer 3.png, \t Teeth Prediction: Molars\n",
            "image_file_name: /content/drive/My Drive/dental_data/train/004.Premolars/40Layer 1.png, \t Teeth Prediction: Incisors\n",
            "image_file_name: /content/drive/My Drive/dental_data/train/004.Premolars/51Layer 2.png, \t Teeth Prediction: Premolars\n",
            "image_file_name: /content/drive/My Drive/dental_data/train/004.Premolars/94Layer 1.png, \t Teeth Prediction: Incisors\n",
            "image_file_name: /content/drive/My Drive/dental_data/train/004.Premolars/105Layer 4.png, \t Teeth Prediction: Premolars\n",
            "image_file_name: /content/drive/My Drive/dental_data/train/004.Premolars/85Layer 3.png, \t Teeth Prediction: Molars\n",
            "image_file_name: /content/drive/My Drive/dental_data/train/004.Premolars/80Layer 6.png, \t Teeth Prediction: Molars\n",
            "image_file_name: /content/drive/My Drive/dental_data/train/004.Premolars/111Layer 3.png, \t Teeth Prediction: Molars\n",
            "image_file_name: /content/drive/My Drive/dental_data/train/004.Premolars/91Layer 4.png, \t Teeth Prediction: Incisors\n",
            "image_file_name: /content/drive/My Drive/dental_data/train/004.Premolars/100Layer 1.png, \t Teeth Prediction: Molars\n",
            "image_file_name: /content/drive/My Drive/dental_data/train/004.Premolars/99Layer 2.png, \t Teeth Prediction: Molars\n",
            "image_file_name: /content/drive/My Drive/dental_data/train/004.Premolars/72Layer 5.png, \t Teeth Prediction: Premolars\n",
            "image_file_name: /content/drive/My Drive/dental_data/train/004.Premolars/63Layer 5.png, \t Teeth Prediction: Incisors\n",
            "image_file_name: /content/drive/My Drive/dental_data/train/004.Premolars/72Layer 7.png, \t Teeth Prediction: Molars\n",
            "image_file_name: /content/drive/My Drive/dental_data/train/004.Premolars/88Layer 2.png, \t Teeth Prediction: Incisors\n",
            "image_file_name: /content/drive/My Drive/dental_data/train/004.Premolars/54Layer 5.png, \t Teeth Prediction: Molars\n",
            "image_file_name: /content/drive/My Drive/dental_data/train/004.Premolars/100Layer 3.png, \t Teeth Prediction: Molars\n",
            "image_file_name: /content/drive/My Drive/dental_data/train/004.Premolars/80Layer 4.png, \t Teeth Prediction: Molars\n",
            "image_file_name: /content/drive/My Drive/dental_data/train/004.Premolars/111Layer 1.png, \t Teeth Prediction: Premolars\n",
            "image_file_name: /content/drive/My Drive/dental_data/train/004.Premolars/91Layer 6.png, \t Teeth Prediction: Molars\n",
            "image_file_name: /content/drive/My Drive/dental_data/train/004.Premolars/38Layer 8.png, \t Teeth Prediction: Incisors\n",
            "image_file_name: /content/drive/My Drive/dental_data/train/004.Premolars/77Layer 2.png, \t Teeth Prediction: Incisors\n",
            "image_file_name: /content/drive/My Drive/dental_data/train/004.Premolars/105Layer 6.png, \t Teeth Prediction: Molars\n",
            "image_file_name: /content/drive/My Drive/dental_data/train/004.Premolars/85Layer 1.png, \t Teeth Prediction: Incisors\n",
            "image_file_name: /content/drive/My Drive/dental_data/train/004.Premolars/94Layer 3.png, \t Teeth Prediction: Incisors\n",
            "image_file_name: /content/drive/My Drive/dental_data/train/004.Premolars/40Layer 2.png, \t Teeth Prediction: Premolars\n",
            "image_file_name: /content/drive/My Drive/dental_data/train/004.Premolars/51Layer 1.png, \t Teeth Prediction: Molars\n",
            "image_file_name: /content/drive/My Drive/dental_data/train/004.Premolars/94Layer 2.png, \t Teeth Prediction: Incisors\n",
            "image_file_name: /content/drive/My Drive/dental_data/train/004.Premolars/40Layer 3.png, \t Teeth Prediction: Molars\n",
            "image_file_name: /content/drive/My Drive/dental_data/train/004.Premolars/77Layer 3.png, \t Teeth Prediction: Incisors\n",
            "image_file_name: /content/drive/My Drive/dental_data/train/004.Premolars/100Layer 2.png, \t Teeth Prediction: Premolars\n",
            "image_file_name: /content/drive/My Drive/dental_data/train/004.Premolars/91Layer 7.png, \t Teeth Prediction: Molars\n",
            "image_file_name: /content/drive/My Drive/dental_data/train/004.Premolars/80Layer 5.png, \t Teeth Prediction: Molars\n",
            "image_file_name: /content/drive/My Drive/dental_data/train/004.Premolars/63Layer 4.png, \t Teeth Prediction: Incisors\n",
            "image_file_name: /content/drive/My Drive/dental_data/train/004.Premolars/72Layer 6.png, \t Teeth Prediction: Premolars\n",
            "image_file_name: /content/drive/My Drive/dental_data/train/004.Premolars/54Layer 4.png, \t Teeth Prediction: Premolars\n",
            "image_file_name: /content/drive/My Drive/dental_data/train/004.Premolars/71Layer 8.png, \t Teeth Prediction: Premolars\n",
            "image_file_name: /content/drive/My Drive/dental_data/train/004.Premolars/36Layer 4.png, \t Teeth Prediction: Incisors\n",
            "image_file_name: /content/drive/My Drive/dental_data/train/004.Premolars/99Layer 1.png, \t Teeth Prediction: Molars\n",
            "image_file_name: /content/drive/My Drive/dental_data/train/004.Premolars/88Layer 3.png, \t Teeth Prediction: Incisors\n",
            "image_file_name: /content/drive/My Drive/dental_data/train/004.Premolars/100Layer 6.png, \t Teeth Prediction: Premolars\n",
            "image_file_name: /content/drive/My Drive/dental_data/train/004.Premolars/72Layer 2.png, \t Teeth Prediction: Molars\n",
            "image_file_name: /content/drive/My Drive/dental_data/train/004.Premolars/99Layer 5.png, \t Teeth Prediction: Molars\n",
            "image_file_name: /content/drive/My Drive/dental_data/train/004.Premolars/80Layer 1.png, \t Teeth Prediction: Molars\n",
            "image_file_name: /content/drive/My Drive/dental_data/train/004.Premolars/111Layer 4.png, \t Teeth Prediction: Premolars\n",
            "image_file_name: /content/drive/My Drive/dental_data/train/004.Premolars/91Layer 3.png, \t Teeth Prediction: Molars\n",
            "image_file_name: /content/drive/My Drive/dental_data/train/004.Premolars/48Layer 1.png, \t Teeth Prediction: Molars\n"
          ],
          "name": "stdout"
        },
        {
          "output_type": "error",
          "ename": "KeyboardInterrupt",
          "evalue": "ignored",
          "traceback": [
            "\u001b[0;31m---------------------------------------------------------------------------\u001b[0m",
            "\u001b[0;31mKeyboardInterrupt\u001b[0m                         Traceback (most recent call last)",
            "\u001b[0;32m<ipython-input-112-8d57a6bdf8c5>\u001b[0m in \u001b[0;36m<module>\u001b[0;34m()\u001b[0m\n\u001b[1;32m      1\u001b[0m \u001b[0;32mfor\u001b[0m \u001b[0mimg_file\u001b[0m \u001b[0;32min\u001b[0m \u001b[0mos\u001b[0m\u001b[0;34m.\u001b[0m\u001b[0mlistdir\u001b[0m\u001b[0;34m(\u001b[0m\u001b[0;34m'/content/drive/My Drive/dental_data/train/004.Premolars'\u001b[0m\u001b[0;34m)\u001b[0m\u001b[0;34m:\u001b[0m\u001b[0;34m\u001b[0m\u001b[0;34m\u001b[0m\u001b[0m\n\u001b[1;32m      2\u001b[0m     \u001b[0mimg_path\u001b[0m \u001b[0;34m=\u001b[0m \u001b[0mos\u001b[0m\u001b[0;34m.\u001b[0m\u001b[0mpath\u001b[0m\u001b[0;34m.\u001b[0m\u001b[0mjoin\u001b[0m\u001b[0;34m(\u001b[0m\u001b[0;34m'/content/drive/My Drive/dental_data/train/004.Premolars'\u001b[0m\u001b[0;34m,\u001b[0m \u001b[0mimg_file\u001b[0m\u001b[0;34m)\u001b[0m\u001b[0;34m\u001b[0m\u001b[0;34m\u001b[0m\u001b[0m\n\u001b[0;32m----> 3\u001b[0;31m     \u001b[0mpredition\u001b[0m \u001b[0;34m=\u001b[0m \u001b[0mpredict_teeth_transfer\u001b[0m\u001b[0;34m(\u001b[0m\u001b[0mmodel_transfer\u001b[0m\u001b[0;34m,\u001b[0m \u001b[0mclass_names\u001b[0m\u001b[0;34m,\u001b[0m \u001b[0mimg_path\u001b[0m\u001b[0;34m)\u001b[0m\u001b[0;34m\u001b[0m\u001b[0;34m\u001b[0m\u001b[0m\n\u001b[0m\u001b[1;32m      4\u001b[0m     \u001b[0mprint\u001b[0m\u001b[0;34m(\u001b[0m\u001b[0;34m\"image_file_name: {0}, \\t Teeth Prediction: {1}\"\u001b[0m\u001b[0;34m.\u001b[0m\u001b[0mformat\u001b[0m\u001b[0;34m(\u001b[0m\u001b[0mimg_path\u001b[0m\u001b[0;34m,\u001b[0m \u001b[0mpredition\u001b[0m\u001b[0;34m)\u001b[0m\u001b[0;34m)\u001b[0m\u001b[0;34m\u001b[0m\u001b[0;34m\u001b[0m\u001b[0m\n",
            "\u001b[0;32m<ipython-input-109-e7221662964f>\u001b[0m in \u001b[0;36mpredict_teeth_transfer\u001b[0;34m(model, class_names, img_path)\u001b[0m\n\u001b[1;32m      5\u001b[0m     \u001b[0mmodel\u001b[0m \u001b[0;34m=\u001b[0m \u001b[0mmodel\u001b[0m\u001b[0;34m.\u001b[0m\u001b[0mcpu\u001b[0m\u001b[0;34m(\u001b[0m\u001b[0;34m)\u001b[0m\u001b[0;34m\u001b[0m\u001b[0;34m\u001b[0m\u001b[0m\n\u001b[1;32m      6\u001b[0m     \u001b[0mmodel\u001b[0m\u001b[0;34m.\u001b[0m\u001b[0meval\u001b[0m\u001b[0;34m(\u001b[0m\u001b[0;34m)\u001b[0m\u001b[0;34m\u001b[0m\u001b[0;34m\u001b[0m\u001b[0m\n\u001b[0;32m----> 7\u001b[0;31m     \u001b[0midx\u001b[0m \u001b[0;34m=\u001b[0m \u001b[0mtorch\u001b[0m\u001b[0;34m.\u001b[0m\u001b[0margmax\u001b[0m\u001b[0;34m(\u001b[0m\u001b[0mmodel\u001b[0m\u001b[0;34m(\u001b[0m\u001b[0mimg\u001b[0m\u001b[0;34m)\u001b[0m\u001b[0;34m)\u001b[0m\u001b[0;34m\u001b[0m\u001b[0;34m\u001b[0m\u001b[0m\n\u001b[0m\u001b[1;32m      8\u001b[0m     \u001b[0;32mreturn\u001b[0m \u001b[0mclass_names\u001b[0m\u001b[0;34m[\u001b[0m\u001b[0midx\u001b[0m\u001b[0;34m]\u001b[0m\u001b[0;34m\u001b[0m\u001b[0;34m\u001b[0m\u001b[0m\n",
            "\u001b[0;32m/usr/local/lib/python3.6/dist-packages/torch/nn/modules/module.py\u001b[0m in \u001b[0;36m__call__\u001b[0;34m(self, *input, **kwargs)\u001b[0m\n\u001b[1;32m    487\u001b[0m             \u001b[0mresult\u001b[0m \u001b[0;34m=\u001b[0m \u001b[0mself\u001b[0m\u001b[0;34m.\u001b[0m\u001b[0m_slow_forward\u001b[0m\u001b[0;34m(\u001b[0m\u001b[0;34m*\u001b[0m\u001b[0minput\u001b[0m\u001b[0;34m,\u001b[0m \u001b[0;34m**\u001b[0m\u001b[0mkwargs\u001b[0m\u001b[0;34m)\u001b[0m\u001b[0;34m\u001b[0m\u001b[0;34m\u001b[0m\u001b[0m\n\u001b[1;32m    488\u001b[0m         \u001b[0;32melse\u001b[0m\u001b[0;34m:\u001b[0m\u001b[0;34m\u001b[0m\u001b[0;34m\u001b[0m\u001b[0m\n\u001b[0;32m--> 489\u001b[0;31m             \u001b[0mresult\u001b[0m \u001b[0;34m=\u001b[0m \u001b[0mself\u001b[0m\u001b[0;34m.\u001b[0m\u001b[0mforward\u001b[0m\u001b[0;34m(\u001b[0m\u001b[0;34m*\u001b[0m\u001b[0minput\u001b[0m\u001b[0;34m,\u001b[0m \u001b[0;34m**\u001b[0m\u001b[0mkwargs\u001b[0m\u001b[0;34m)\u001b[0m\u001b[0;34m\u001b[0m\u001b[0;34m\u001b[0m\u001b[0m\n\u001b[0m\u001b[1;32m    490\u001b[0m         \u001b[0;32mfor\u001b[0m \u001b[0mhook\u001b[0m \u001b[0;32min\u001b[0m \u001b[0mself\u001b[0m\u001b[0;34m.\u001b[0m\u001b[0m_forward_hooks\u001b[0m\u001b[0;34m.\u001b[0m\u001b[0mvalues\u001b[0m\u001b[0;34m(\u001b[0m\u001b[0;34m)\u001b[0m\u001b[0;34m:\u001b[0m\u001b[0;34m\u001b[0m\u001b[0;34m\u001b[0m\u001b[0m\n\u001b[1;32m    491\u001b[0m             \u001b[0mhook_result\u001b[0m \u001b[0;34m=\u001b[0m \u001b[0mhook\u001b[0m\u001b[0;34m(\u001b[0m\u001b[0mself\u001b[0m\u001b[0;34m,\u001b[0m \u001b[0minput\u001b[0m\u001b[0;34m,\u001b[0m \u001b[0mresult\u001b[0m\u001b[0;34m)\u001b[0m\u001b[0;34m\u001b[0m\u001b[0;34m\u001b[0m\u001b[0m\n",
            "\u001b[0;32m/usr/local/lib/python3.6/dist-packages/torchvision/models/resnet.py\u001b[0m in \u001b[0;36mforward\u001b[0;34m(self, x)\u001b[0m\n\u001b[1;32m    159\u001b[0m \u001b[0;34m\u001b[0m\u001b[0m\n\u001b[1;32m    160\u001b[0m         \u001b[0mx\u001b[0m \u001b[0;34m=\u001b[0m \u001b[0mself\u001b[0m\u001b[0;34m.\u001b[0m\u001b[0mavgpool\u001b[0m\u001b[0;34m(\u001b[0m\u001b[0mx\u001b[0m\u001b[0;34m)\u001b[0m\u001b[0;34m\u001b[0m\u001b[0;34m\u001b[0m\u001b[0m\n\u001b[0;32m--> 161\u001b[0;31m         \u001b[0mx\u001b[0m \u001b[0;34m=\u001b[0m \u001b[0mx\u001b[0m\u001b[0;34m.\u001b[0m\u001b[0mview\u001b[0m\u001b[0;34m(\u001b[0m\u001b[0mx\u001b[0m\u001b[0;34m.\u001b[0m\u001b[0msize\u001b[0m\u001b[0;34m(\u001b[0m\u001b[0;36m0\u001b[0m\u001b[0;34m)\u001b[0m\u001b[0;34m,\u001b[0m \u001b[0;34m-\u001b[0m\u001b[0;36m1\u001b[0m\u001b[0;34m)\u001b[0m\u001b[0;34m\u001b[0m\u001b[0;34m\u001b[0m\u001b[0m\n\u001b[0m\u001b[1;32m    162\u001b[0m         \u001b[0mx\u001b[0m \u001b[0;34m=\u001b[0m \u001b[0mself\u001b[0m\u001b[0;34m.\u001b[0m\u001b[0mfc\u001b[0m\u001b[0;34m(\u001b[0m\u001b[0mx\u001b[0m\u001b[0;34m)\u001b[0m\u001b[0;34m\u001b[0m\u001b[0;34m\u001b[0m\u001b[0m\n\u001b[1;32m    163\u001b[0m \u001b[0;34m\u001b[0m\u001b[0m\n",
            "\u001b[0;31mKeyboardInterrupt\u001b[0m: "
          ]
        }
      ]
    },
    {
      "metadata": {
        "id": "siruII5z365w",
        "colab_type": "text"
      },
      "cell_type": "markdown",
      "source": [
        "Testing on Molars"
      ]
    },
    {
      "metadata": {
        "id": "LNGusJBx4B6t",
        "colab_type": "code",
        "colab": {
          "base_uri": "https://localhost:8080/",
          "height": 1898
        },
        "outputId": "8b6a56ef-a021-4d13-9c03-e3f13a533acc"
      },
      "cell_type": "code",
      "source": [
        "for img_file in os.listdir('/content/drive/My Drive/dental_data/train/003.Molars'):\n",
        "    img_path = os.path.join('/content/drive/My Drive/dental_data/train/003.Molars', img_file)\n",
        "    predition = predict_teeth_transfer(model_transfer, class_names, img_path)\n",
        "    print(\"image_file_name: {0}, \\t Teeth Prediction: {1}\".format(img_path, predition))"
      ],
      "execution_count": 113,
      "outputs": [
        {
          "output_type": "stream",
          "text": [
            "image_file_name: /content/drive/My Drive/dental_data/train/003.Molars/58Layer 3.png, \t Teeth Prediction: Molars\n",
            "image_file_name: /content/drive/My Drive/dental_data/train/003.Molars/49Layer 1.png, \t Teeth Prediction: Molars\n",
            "image_file_name: /content/drive/My Drive/dental_data/train/003.Molars/104Layer 3.png, \t Teeth Prediction: Molars\n",
            "image_file_name: /content/drive/My Drive/dental_data/train/003.Molars/95Layer 6.png, \t Teeth Prediction: Molars\n",
            "image_file_name: /content/drive/My Drive/dental_data/train/003.Molars/84Layer 4.png, \t Teeth Prediction: Molars\n",
            "image_file_name: /content/drive/My Drive/dental_data/train/003.Molars/96Layer 8.png, \t Teeth Prediction: Molars\n",
            "image_file_name: /content/drive/My Drive/dental_data/train/003.Molars/50Layer 5.png, \t Teeth Prediction: Molars\n",
            "image_file_name: /content/drive/My Drive/dental_data/train/003.Molars/41Layer 7.png, \t Teeth Prediction: Molars\n",
            "image_file_name: /content/drive/My Drive/dental_data/train/003.Molars/67Layer 5.png, \t Teeth Prediction: Molars\n",
            "image_file_name: /content/drive/My Drive/dental_data/train/003.Molars/89Layer 7.png, \t Teeth Prediction: Molars\n",
            "image_file_name: /content/drive/My Drive/dental_data/train/003.Molars/76Layer 7.png, \t Teeth Prediction: Molars\n",
            "image_file_name: /content/drive/My Drive/dental_data/train/003.Molars/98Layer 5.png, \t Teeth Prediction: Molars\n",
            "image_file_name: /content/drive/My Drive/dental_data/train/003.Molars/44Layer 2.png, \t Teeth Prediction: Molars\n",
            "image_file_name: /content/drive/My Drive/dental_data/train/003.Molars/73Layer 2.png, \t Teeth Prediction: Molars\n",
            "image_file_name: /content/drive/My Drive/dental_data/train/003.Molars/110Layer 4.png, \t Teeth Prediction: Molars\n",
            "image_file_name: /content/drive/My Drive/dental_data/train/003.Molars/81Layer 1.png, \t Teeth Prediction: Molars\n",
            "image_file_name: /content/drive/My Drive/dental_data/train/003.Molars/101Layer 6.png, \t Teeth Prediction: Molars\n",
            "image_file_name: /content/drive/My Drive/dental_data/train/003.Molars/90Layer 2.png, \t Teeth Prediction: Molars\n",
            "image_file_name: /content/drive/My Drive/dental_data/train/003.Molars/90Layer 3.png, \t Teeth Prediction: Molars\n",
            "image_file_name: /content/drive/My Drive/dental_data/train/003.Molars/73Layer 3.png, \t Teeth Prediction: Molars\n",
            "image_file_name: /content/drive/My Drive/dental_data/train/003.Molars/101Layer 7.png, \t Teeth Prediction: Molars\n",
            "image_file_name: /content/drive/My Drive/dental_data/train/003.Molars/110Layer 5.png, \t Teeth Prediction: Molars\n",
            "image_file_name: /content/drive/My Drive/dental_data/train/003.Molars/98Layer 4.png, \t Teeth Prediction: Molars\n",
            "image_file_name: /content/drive/My Drive/dental_data/train/003.Molars/62Layer 1.png, \t Teeth Prediction: Molars\n",
            "image_file_name: /content/drive/My Drive/dental_data/train/003.Molars/55Layer 1.png, \t Teeth Prediction: Molars\n",
            "image_file_name: /content/drive/My Drive/dental_data/train/003.Molars/37Layer 1.png, \t Teeth Prediction: Molars\n",
            "image_file_name: /content/drive/My Drive/dental_data/train/003.Molars/89Layer 6.png, \t Teeth Prediction: Molars\n",
            "image_file_name: /content/drive/My Drive/dental_data/train/003.Molars/67Layer 4.png, \t Teeth Prediction: Molars\n",
            "image_file_name: /content/drive/My Drive/dental_data/train/003.Molars/50Layer 4.png, \t Teeth Prediction: Molars\n",
            "image_file_name: /content/drive/My Drive/dental_data/train/003.Molars/76Layer 6.png, \t Teeth Prediction: Molars\n",
            "image_file_name: /content/drive/My Drive/dental_data/train/003.Molars/41Layer 6.png, \t Teeth Prediction: Molars\n",
            "image_file_name: /content/drive/My Drive/dental_data/train/003.Molars/95Layer 7.png, \t Teeth Prediction: Molars\n",
            "image_file_name: /content/drive/My Drive/dental_data/train/003.Molars/84Layer 5.png, \t Teeth Prediction: Molars\n",
            "image_file_name: /content/drive/My Drive/dental_data/train/003.Molars/58Layer 2.png, \t Teeth Prediction: Molars\n",
            "image_file_name: /content/drive/My Drive/dental_data/train/003.Molars/96Layer 9.png, \t Teeth Prediction: Molars\n",
            "image_file_name: /content/drive/My Drive/dental_data/train/003.Molars/104Layer 2.png, \t Teeth Prediction: Molars\n",
            "image_file_name: /content/drive/My Drive/dental_data/train/003.Molars/49Layer 2.png, \t Teeth Prediction: Molars\n"
          ],
          "name": "stdout"
        },
        {
          "output_type": "error",
          "ename": "KeyboardInterrupt",
          "evalue": "ignored",
          "traceback": [
            "\u001b[0;31m---------------------------------------------------------------------------\u001b[0m",
            "\u001b[0;31mKeyboardInterrupt\u001b[0m                         Traceback (most recent call last)",
            "\u001b[0;32m<ipython-input-113-6cb43d33df11>\u001b[0m in \u001b[0;36m<module>\u001b[0;34m()\u001b[0m\n\u001b[1;32m      1\u001b[0m \u001b[0;32mfor\u001b[0m \u001b[0mimg_file\u001b[0m \u001b[0;32min\u001b[0m \u001b[0mos\u001b[0m\u001b[0;34m.\u001b[0m\u001b[0mlistdir\u001b[0m\u001b[0;34m(\u001b[0m\u001b[0;34m'/content/drive/My Drive/dental_data/train/003.Molars'\u001b[0m\u001b[0;34m)\u001b[0m\u001b[0;34m:\u001b[0m\u001b[0;34m\u001b[0m\u001b[0;34m\u001b[0m\u001b[0m\n\u001b[1;32m      2\u001b[0m     \u001b[0mimg_path\u001b[0m \u001b[0;34m=\u001b[0m \u001b[0mos\u001b[0m\u001b[0;34m.\u001b[0m\u001b[0mpath\u001b[0m\u001b[0;34m.\u001b[0m\u001b[0mjoin\u001b[0m\u001b[0;34m(\u001b[0m\u001b[0;34m'/content/drive/My Drive/dental_data/train/003.Molars'\u001b[0m\u001b[0;34m,\u001b[0m \u001b[0mimg_file\u001b[0m\u001b[0;34m)\u001b[0m\u001b[0;34m\u001b[0m\u001b[0;34m\u001b[0m\u001b[0m\n\u001b[0;32m----> 3\u001b[0;31m     \u001b[0mpredition\u001b[0m \u001b[0;34m=\u001b[0m \u001b[0mpredict_teeth_transfer\u001b[0m\u001b[0;34m(\u001b[0m\u001b[0mmodel_transfer\u001b[0m\u001b[0;34m,\u001b[0m \u001b[0mclass_names\u001b[0m\u001b[0;34m,\u001b[0m \u001b[0mimg_path\u001b[0m\u001b[0;34m)\u001b[0m\u001b[0;34m\u001b[0m\u001b[0;34m\u001b[0m\u001b[0m\n\u001b[0m\u001b[1;32m      4\u001b[0m     \u001b[0mprint\u001b[0m\u001b[0;34m(\u001b[0m\u001b[0;34m\"image_file_name: {0}, \\t Teeth Prediction: {1}\"\u001b[0m\u001b[0;34m.\u001b[0m\u001b[0mformat\u001b[0m\u001b[0;34m(\u001b[0m\u001b[0mimg_path\u001b[0m\u001b[0;34m,\u001b[0m \u001b[0mpredition\u001b[0m\u001b[0;34m)\u001b[0m\u001b[0;34m)\u001b[0m\u001b[0;34m\u001b[0m\u001b[0;34m\u001b[0m\u001b[0m\n",
            "\u001b[0;32m<ipython-input-109-e7221662964f>\u001b[0m in \u001b[0;36mpredict_teeth_transfer\u001b[0;34m(model, class_names, img_path)\u001b[0m\n\u001b[1;32m      5\u001b[0m     \u001b[0mmodel\u001b[0m \u001b[0;34m=\u001b[0m \u001b[0mmodel\u001b[0m\u001b[0;34m.\u001b[0m\u001b[0mcpu\u001b[0m\u001b[0;34m(\u001b[0m\u001b[0;34m)\u001b[0m\u001b[0;34m\u001b[0m\u001b[0;34m\u001b[0m\u001b[0m\n\u001b[1;32m      6\u001b[0m     \u001b[0mmodel\u001b[0m\u001b[0;34m.\u001b[0m\u001b[0meval\u001b[0m\u001b[0;34m(\u001b[0m\u001b[0;34m)\u001b[0m\u001b[0;34m\u001b[0m\u001b[0;34m\u001b[0m\u001b[0m\n\u001b[0;32m----> 7\u001b[0;31m     \u001b[0midx\u001b[0m \u001b[0;34m=\u001b[0m \u001b[0mtorch\u001b[0m\u001b[0;34m.\u001b[0m\u001b[0margmax\u001b[0m\u001b[0;34m(\u001b[0m\u001b[0mmodel\u001b[0m\u001b[0;34m(\u001b[0m\u001b[0mimg\u001b[0m\u001b[0;34m)\u001b[0m\u001b[0;34m)\u001b[0m\u001b[0;34m\u001b[0m\u001b[0;34m\u001b[0m\u001b[0m\n\u001b[0m\u001b[1;32m      8\u001b[0m     \u001b[0;32mreturn\u001b[0m \u001b[0mclass_names\u001b[0m\u001b[0;34m[\u001b[0m\u001b[0midx\u001b[0m\u001b[0;34m]\u001b[0m\u001b[0;34m\u001b[0m\u001b[0;34m\u001b[0m\u001b[0m\n",
            "\u001b[0;32m/usr/local/lib/python3.6/dist-packages/torch/nn/modules/module.py\u001b[0m in \u001b[0;36m__call__\u001b[0;34m(self, *input, **kwargs)\u001b[0m\n\u001b[1;32m    487\u001b[0m             \u001b[0mresult\u001b[0m \u001b[0;34m=\u001b[0m \u001b[0mself\u001b[0m\u001b[0;34m.\u001b[0m\u001b[0m_slow_forward\u001b[0m\u001b[0;34m(\u001b[0m\u001b[0;34m*\u001b[0m\u001b[0minput\u001b[0m\u001b[0;34m,\u001b[0m \u001b[0;34m**\u001b[0m\u001b[0mkwargs\u001b[0m\u001b[0;34m)\u001b[0m\u001b[0;34m\u001b[0m\u001b[0;34m\u001b[0m\u001b[0m\n\u001b[1;32m    488\u001b[0m         \u001b[0;32melse\u001b[0m\u001b[0;34m:\u001b[0m\u001b[0;34m\u001b[0m\u001b[0;34m\u001b[0m\u001b[0m\n\u001b[0;32m--> 489\u001b[0;31m             \u001b[0mresult\u001b[0m \u001b[0;34m=\u001b[0m \u001b[0mself\u001b[0m\u001b[0;34m.\u001b[0m\u001b[0mforward\u001b[0m\u001b[0;34m(\u001b[0m\u001b[0;34m*\u001b[0m\u001b[0minput\u001b[0m\u001b[0;34m,\u001b[0m \u001b[0;34m**\u001b[0m\u001b[0mkwargs\u001b[0m\u001b[0;34m)\u001b[0m\u001b[0;34m\u001b[0m\u001b[0;34m\u001b[0m\u001b[0m\n\u001b[0m\u001b[1;32m    490\u001b[0m         \u001b[0;32mfor\u001b[0m \u001b[0mhook\u001b[0m \u001b[0;32min\u001b[0m \u001b[0mself\u001b[0m\u001b[0;34m.\u001b[0m\u001b[0m_forward_hooks\u001b[0m\u001b[0;34m.\u001b[0m\u001b[0mvalues\u001b[0m\u001b[0;34m(\u001b[0m\u001b[0;34m)\u001b[0m\u001b[0;34m:\u001b[0m\u001b[0;34m\u001b[0m\u001b[0;34m\u001b[0m\u001b[0m\n\u001b[1;32m    491\u001b[0m             \u001b[0mhook_result\u001b[0m \u001b[0;34m=\u001b[0m \u001b[0mhook\u001b[0m\u001b[0;34m(\u001b[0m\u001b[0mself\u001b[0m\u001b[0;34m,\u001b[0m \u001b[0minput\u001b[0m\u001b[0;34m,\u001b[0m \u001b[0mresult\u001b[0m\u001b[0;34m)\u001b[0m\u001b[0;34m\u001b[0m\u001b[0;34m\u001b[0m\u001b[0m\n",
            "\u001b[0;32m/usr/local/lib/python3.6/dist-packages/torchvision/models/resnet.py\u001b[0m in \u001b[0;36mforward\u001b[0;34m(self, x)\u001b[0m\n\u001b[1;32m    154\u001b[0m \u001b[0;34m\u001b[0m\u001b[0m\n\u001b[1;32m    155\u001b[0m         \u001b[0mx\u001b[0m \u001b[0;34m=\u001b[0m \u001b[0mself\u001b[0m\u001b[0;34m.\u001b[0m\u001b[0mlayer1\u001b[0m\u001b[0;34m(\u001b[0m\u001b[0mx\u001b[0m\u001b[0;34m)\u001b[0m\u001b[0;34m\u001b[0m\u001b[0;34m\u001b[0m\u001b[0m\n\u001b[0;32m--> 156\u001b[0;31m         \u001b[0mx\u001b[0m \u001b[0;34m=\u001b[0m \u001b[0mself\u001b[0m\u001b[0;34m.\u001b[0m\u001b[0mlayer2\u001b[0m\u001b[0;34m(\u001b[0m\u001b[0mx\u001b[0m\u001b[0;34m)\u001b[0m\u001b[0;34m\u001b[0m\u001b[0;34m\u001b[0m\u001b[0m\n\u001b[0m\u001b[1;32m    157\u001b[0m         \u001b[0mx\u001b[0m \u001b[0;34m=\u001b[0m \u001b[0mself\u001b[0m\u001b[0;34m.\u001b[0m\u001b[0mlayer3\u001b[0m\u001b[0;34m(\u001b[0m\u001b[0mx\u001b[0m\u001b[0;34m)\u001b[0m\u001b[0;34m\u001b[0m\u001b[0;34m\u001b[0m\u001b[0m\n\u001b[1;32m    158\u001b[0m         \u001b[0mx\u001b[0m \u001b[0;34m=\u001b[0m \u001b[0mself\u001b[0m\u001b[0;34m.\u001b[0m\u001b[0mlayer4\u001b[0m\u001b[0;34m(\u001b[0m\u001b[0mx\u001b[0m\u001b[0;34m)\u001b[0m\u001b[0;34m\u001b[0m\u001b[0;34m\u001b[0m\u001b[0m\n",
            "\u001b[0;32m/usr/local/lib/python3.6/dist-packages/torch/nn/modules/module.py\u001b[0m in \u001b[0;36m__call__\u001b[0;34m(self, *input, **kwargs)\u001b[0m\n\u001b[1;32m    487\u001b[0m             \u001b[0mresult\u001b[0m \u001b[0;34m=\u001b[0m \u001b[0mself\u001b[0m\u001b[0;34m.\u001b[0m\u001b[0m_slow_forward\u001b[0m\u001b[0;34m(\u001b[0m\u001b[0;34m*\u001b[0m\u001b[0minput\u001b[0m\u001b[0;34m,\u001b[0m \u001b[0;34m**\u001b[0m\u001b[0mkwargs\u001b[0m\u001b[0;34m)\u001b[0m\u001b[0;34m\u001b[0m\u001b[0;34m\u001b[0m\u001b[0m\n\u001b[1;32m    488\u001b[0m         \u001b[0;32melse\u001b[0m\u001b[0;34m:\u001b[0m\u001b[0;34m\u001b[0m\u001b[0;34m\u001b[0m\u001b[0m\n\u001b[0;32m--> 489\u001b[0;31m             \u001b[0mresult\u001b[0m \u001b[0;34m=\u001b[0m \u001b[0mself\u001b[0m\u001b[0;34m.\u001b[0m\u001b[0mforward\u001b[0m\u001b[0;34m(\u001b[0m\u001b[0;34m*\u001b[0m\u001b[0minput\u001b[0m\u001b[0;34m,\u001b[0m \u001b[0;34m**\u001b[0m\u001b[0mkwargs\u001b[0m\u001b[0;34m)\u001b[0m\u001b[0;34m\u001b[0m\u001b[0;34m\u001b[0m\u001b[0m\n\u001b[0m\u001b[1;32m    490\u001b[0m         \u001b[0;32mfor\u001b[0m \u001b[0mhook\u001b[0m \u001b[0;32min\u001b[0m \u001b[0mself\u001b[0m\u001b[0;34m.\u001b[0m\u001b[0m_forward_hooks\u001b[0m\u001b[0;34m.\u001b[0m\u001b[0mvalues\u001b[0m\u001b[0;34m(\u001b[0m\u001b[0;34m)\u001b[0m\u001b[0;34m:\u001b[0m\u001b[0;34m\u001b[0m\u001b[0;34m\u001b[0m\u001b[0m\n\u001b[1;32m    491\u001b[0m             \u001b[0mhook_result\u001b[0m \u001b[0;34m=\u001b[0m \u001b[0mhook\u001b[0m\u001b[0;34m(\u001b[0m\u001b[0mself\u001b[0m\u001b[0;34m,\u001b[0m \u001b[0minput\u001b[0m\u001b[0;34m,\u001b[0m \u001b[0mresult\u001b[0m\u001b[0;34m)\u001b[0m\u001b[0;34m\u001b[0m\u001b[0;34m\u001b[0m\u001b[0m\n",
            "\u001b[0;32m/usr/local/lib/python3.6/dist-packages/torch/nn/modules/container.py\u001b[0m in \u001b[0;36mforward\u001b[0;34m(self, input)\u001b[0m\n\u001b[1;32m     90\u001b[0m     \u001b[0;32mdef\u001b[0m \u001b[0mforward\u001b[0m\u001b[0;34m(\u001b[0m\u001b[0mself\u001b[0m\u001b[0;34m,\u001b[0m \u001b[0minput\u001b[0m\u001b[0;34m)\u001b[0m\u001b[0;34m:\u001b[0m\u001b[0;34m\u001b[0m\u001b[0;34m\u001b[0m\u001b[0m\n\u001b[1;32m     91\u001b[0m         \u001b[0;32mfor\u001b[0m \u001b[0mmodule\u001b[0m \u001b[0;32min\u001b[0m \u001b[0mself\u001b[0m\u001b[0;34m.\u001b[0m\u001b[0m_modules\u001b[0m\u001b[0;34m.\u001b[0m\u001b[0mvalues\u001b[0m\u001b[0;34m(\u001b[0m\u001b[0;34m)\u001b[0m\u001b[0;34m:\u001b[0m\u001b[0;34m\u001b[0m\u001b[0;34m\u001b[0m\u001b[0m\n\u001b[0;32m---> 92\u001b[0;31m             \u001b[0minput\u001b[0m \u001b[0;34m=\u001b[0m \u001b[0mmodule\u001b[0m\u001b[0;34m(\u001b[0m\u001b[0minput\u001b[0m\u001b[0;34m)\u001b[0m\u001b[0;34m\u001b[0m\u001b[0;34m\u001b[0m\u001b[0m\n\u001b[0m\u001b[1;32m     93\u001b[0m         \u001b[0;32mreturn\u001b[0m \u001b[0minput\u001b[0m\u001b[0;34m\u001b[0m\u001b[0;34m\u001b[0m\u001b[0m\n\u001b[1;32m     94\u001b[0m \u001b[0;34m\u001b[0m\u001b[0m\n",
            "\u001b[0;32m/usr/local/lib/python3.6/dist-packages/torch/nn/modules/module.py\u001b[0m in \u001b[0;36m__call__\u001b[0;34m(self, *input, **kwargs)\u001b[0m\n\u001b[1;32m    487\u001b[0m             \u001b[0mresult\u001b[0m \u001b[0;34m=\u001b[0m \u001b[0mself\u001b[0m\u001b[0;34m.\u001b[0m\u001b[0m_slow_forward\u001b[0m\u001b[0;34m(\u001b[0m\u001b[0;34m*\u001b[0m\u001b[0minput\u001b[0m\u001b[0;34m,\u001b[0m \u001b[0;34m**\u001b[0m\u001b[0mkwargs\u001b[0m\u001b[0;34m)\u001b[0m\u001b[0;34m\u001b[0m\u001b[0;34m\u001b[0m\u001b[0m\n\u001b[1;32m    488\u001b[0m         \u001b[0;32melse\u001b[0m\u001b[0;34m:\u001b[0m\u001b[0;34m\u001b[0m\u001b[0;34m\u001b[0m\u001b[0m\n\u001b[0;32m--> 489\u001b[0;31m             \u001b[0mresult\u001b[0m \u001b[0;34m=\u001b[0m \u001b[0mself\u001b[0m\u001b[0;34m.\u001b[0m\u001b[0mforward\u001b[0m\u001b[0;34m(\u001b[0m\u001b[0;34m*\u001b[0m\u001b[0minput\u001b[0m\u001b[0;34m,\u001b[0m \u001b[0;34m**\u001b[0m\u001b[0mkwargs\u001b[0m\u001b[0;34m)\u001b[0m\u001b[0;34m\u001b[0m\u001b[0;34m\u001b[0m\u001b[0m\n\u001b[0m\u001b[1;32m    490\u001b[0m         \u001b[0;32mfor\u001b[0m \u001b[0mhook\u001b[0m \u001b[0;32min\u001b[0m \u001b[0mself\u001b[0m\u001b[0;34m.\u001b[0m\u001b[0m_forward_hooks\u001b[0m\u001b[0;34m.\u001b[0m\u001b[0mvalues\u001b[0m\u001b[0;34m(\u001b[0m\u001b[0;34m)\u001b[0m\u001b[0;34m:\u001b[0m\u001b[0;34m\u001b[0m\u001b[0;34m\u001b[0m\u001b[0m\n\u001b[1;32m    491\u001b[0m             \u001b[0mhook_result\u001b[0m \u001b[0;34m=\u001b[0m \u001b[0mhook\u001b[0m\u001b[0;34m(\u001b[0m\u001b[0mself\u001b[0m\u001b[0;34m,\u001b[0m \u001b[0minput\u001b[0m\u001b[0;34m,\u001b[0m \u001b[0mresult\u001b[0m\u001b[0;34m)\u001b[0m\u001b[0;34m\u001b[0m\u001b[0;34m\u001b[0m\u001b[0m\n",
            "\u001b[0;32m/usr/local/lib/python3.6/dist-packages/torchvision/models/resnet.py\u001b[0m in \u001b[0;36mforward\u001b[0;34m(self, x)\u001b[0m\n\u001b[1;32m     77\u001b[0m         \u001b[0midentity\u001b[0m \u001b[0;34m=\u001b[0m \u001b[0mx\u001b[0m\u001b[0;34m\u001b[0m\u001b[0;34m\u001b[0m\u001b[0m\n\u001b[1;32m     78\u001b[0m \u001b[0;34m\u001b[0m\u001b[0m\n\u001b[0;32m---> 79\u001b[0;31m         \u001b[0mout\u001b[0m \u001b[0;34m=\u001b[0m \u001b[0mself\u001b[0m\u001b[0;34m.\u001b[0m\u001b[0mconv1\u001b[0m\u001b[0;34m(\u001b[0m\u001b[0mx\u001b[0m\u001b[0;34m)\u001b[0m\u001b[0;34m\u001b[0m\u001b[0;34m\u001b[0m\u001b[0m\n\u001b[0m\u001b[1;32m     80\u001b[0m         \u001b[0mout\u001b[0m \u001b[0;34m=\u001b[0m \u001b[0mself\u001b[0m\u001b[0;34m.\u001b[0m\u001b[0mbn1\u001b[0m\u001b[0;34m(\u001b[0m\u001b[0mout\u001b[0m\u001b[0;34m)\u001b[0m\u001b[0;34m\u001b[0m\u001b[0;34m\u001b[0m\u001b[0m\n\u001b[1;32m     81\u001b[0m         \u001b[0mout\u001b[0m \u001b[0;34m=\u001b[0m \u001b[0mself\u001b[0m\u001b[0;34m.\u001b[0m\u001b[0mrelu\u001b[0m\u001b[0;34m(\u001b[0m\u001b[0mout\u001b[0m\u001b[0;34m)\u001b[0m\u001b[0;34m\u001b[0m\u001b[0;34m\u001b[0m\u001b[0m\n",
            "\u001b[0;32m/usr/local/lib/python3.6/dist-packages/torch/nn/modules/module.py\u001b[0m in \u001b[0;36m__call__\u001b[0;34m(self, *input, **kwargs)\u001b[0m\n\u001b[1;32m    487\u001b[0m             \u001b[0mresult\u001b[0m \u001b[0;34m=\u001b[0m \u001b[0mself\u001b[0m\u001b[0;34m.\u001b[0m\u001b[0m_slow_forward\u001b[0m\u001b[0;34m(\u001b[0m\u001b[0;34m*\u001b[0m\u001b[0minput\u001b[0m\u001b[0;34m,\u001b[0m \u001b[0;34m**\u001b[0m\u001b[0mkwargs\u001b[0m\u001b[0;34m)\u001b[0m\u001b[0;34m\u001b[0m\u001b[0;34m\u001b[0m\u001b[0m\n\u001b[1;32m    488\u001b[0m         \u001b[0;32melse\u001b[0m\u001b[0;34m:\u001b[0m\u001b[0;34m\u001b[0m\u001b[0;34m\u001b[0m\u001b[0m\n\u001b[0;32m--> 489\u001b[0;31m             \u001b[0mresult\u001b[0m \u001b[0;34m=\u001b[0m \u001b[0mself\u001b[0m\u001b[0;34m.\u001b[0m\u001b[0mforward\u001b[0m\u001b[0;34m(\u001b[0m\u001b[0;34m*\u001b[0m\u001b[0minput\u001b[0m\u001b[0;34m,\u001b[0m \u001b[0;34m**\u001b[0m\u001b[0mkwargs\u001b[0m\u001b[0;34m)\u001b[0m\u001b[0;34m\u001b[0m\u001b[0;34m\u001b[0m\u001b[0m\n\u001b[0m\u001b[1;32m    490\u001b[0m         \u001b[0;32mfor\u001b[0m \u001b[0mhook\u001b[0m \u001b[0;32min\u001b[0m \u001b[0mself\u001b[0m\u001b[0;34m.\u001b[0m\u001b[0m_forward_hooks\u001b[0m\u001b[0;34m.\u001b[0m\u001b[0mvalues\u001b[0m\u001b[0;34m(\u001b[0m\u001b[0;34m)\u001b[0m\u001b[0;34m:\u001b[0m\u001b[0;34m\u001b[0m\u001b[0;34m\u001b[0m\u001b[0m\n\u001b[1;32m    491\u001b[0m             \u001b[0mhook_result\u001b[0m \u001b[0;34m=\u001b[0m \u001b[0mhook\u001b[0m\u001b[0;34m(\u001b[0m\u001b[0mself\u001b[0m\u001b[0;34m,\u001b[0m \u001b[0minput\u001b[0m\u001b[0;34m,\u001b[0m \u001b[0mresult\u001b[0m\u001b[0;34m)\u001b[0m\u001b[0;34m\u001b[0m\u001b[0;34m\u001b[0m\u001b[0m\n",
            "\u001b[0;32m/usr/local/lib/python3.6/dist-packages/torch/nn/modules/conv.py\u001b[0m in \u001b[0;36mforward\u001b[0;34m(self, input)\u001b[0m\n\u001b[1;32m    318\u001b[0m     \u001b[0;32mdef\u001b[0m \u001b[0mforward\u001b[0m\u001b[0;34m(\u001b[0m\u001b[0mself\u001b[0m\u001b[0;34m,\u001b[0m \u001b[0minput\u001b[0m\u001b[0;34m)\u001b[0m\u001b[0;34m:\u001b[0m\u001b[0;34m\u001b[0m\u001b[0;34m\u001b[0m\u001b[0m\n\u001b[1;32m    319\u001b[0m         return F.conv2d(input, self.weight, self.bias, self.stride,\n\u001b[0;32m--> 320\u001b[0;31m                         self.padding, self.dilation, self.groups)\n\u001b[0m\u001b[1;32m    321\u001b[0m \u001b[0;34m\u001b[0m\u001b[0m\n\u001b[1;32m    322\u001b[0m \u001b[0;34m\u001b[0m\u001b[0m\n",
            "\u001b[0;31mKeyboardInterrupt\u001b[0m: "
          ]
        }
      ]
    },
    {
      "metadata": {
        "id": "qEAe5k-iVdl_",
        "colab_type": "code",
        "colab": {}
      },
      "cell_type": "code",
      "source": [
        ""
      ],
      "execution_count": 0,
      "outputs": []
    }
  ]
}